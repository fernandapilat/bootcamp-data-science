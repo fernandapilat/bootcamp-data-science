{
  "nbformat": 4,
  "nbformat_minor": 0,
  "metadata": {
    "colab": {
      "provenance": [],
      "authorship_tag": "ABX9TyNltvSErpoEKa2/0rNIxD9Q",
      "include_colab_link": true
    },
    "kernelspec": {
      "name": "python3",
      "display_name": "Python 3"
    },
    "language_info": {
      "name": "python"
    }
  },
  "cells": [
    {
      "cell_type": "markdown",
      "metadata": {
        "id": "view-in-github",
        "colab_type": "text"
      },
      "source": [
        "<a href=\"https://colab.research.google.com/github/fernandapilat/bootcamp-data-science/blob/main/Introdu%C3%A7%C3%A3o_%C3%A0_Ci%C3%AAncia_de_Dados_e_Python.ipynb\" target=\"_parent\"><img src=\"https://colab.research.google.com/assets/colab-badge.svg\" alt=\"Open In Colab\"/></a>"
      ]
    },
    {
      "cell_type": "markdown",
      "source": [
        "# **Curso Introdução à Ciência de Dados e Python - DIO e Santander**"
      ],
      "metadata": {
        "id": "pv_nluDdzlKh"
      }
    },
    {
      "cell_type": "markdown",
      "source": [
        "Ao longo desse curso iremos abordar os seguintes tópicos:\n",
        "\n",
        "- ****Ambiente de Desenvolvimento e Primeiros Passos com Python****\n",
        "    - [x]  Introdução ao Python\n",
        "    - [x]  Configuração do ambiente de desenvolvimento\n",
        "    - [x]  Primeiro programa\n",
        "- ****Conhecendo a Linguagem de Programação Python****\n",
        "    - [x]  Tipos de Dados\n",
        "    - [x]  Modo interativo\n",
        "    - [x]  Variáveis e constantes\n",
        "    - [x]  Conversão de tipos\n",
        "    - [x]  Funções de entrada e saída\n",
        "- ****Tipos de Operadores com Python****\n",
        "    - [x]  Operadores aritméticos\n",
        "    - [x]  Operadores de comparação\n",
        "    - [x]  Operadores de atribuição\n",
        "    - [x]  Operadores Lógicos\n",
        "    - [x]  Operadores de identidade\n",
        "    - [x]  Operadores de associação\n",
        "- ****Estruturas Condicionais e de Repetição em Python****\n",
        "    - [ ]  Indentação e blocos\n",
        "    - [ ]  Estruturas condicionais\n",
        "    - [ ]  Estruturas de Repetição\n",
        "- ****Manipulando Strings com Python****\n",
        "    - [x]  Conhecendo métodos úteis da classe string\n",
        "    - [x]  Interpolação de variáveis\n",
        "    - [x]  Fatiamento de string\n",
        "    - [x]  String múltiplas linhas\n",
        "- ****Trabalhando com Listas em Python****\n",
        "    - [x]  Introdução\n",
        "    - [x]  Listas: Criação e acesso aos dados\n",
        "    - [x]  Métodos da classe list\n",
        "- ****Conhecendo Tuplas em Python****\n",
        "    - [x]  Tuplas\n",
        "- ****Explorando Conjuntos em Python****\n",
        "    - [x]  Conjuntos\n",
        "- ****Aprendendo a Utilizar Dicionários em Python****\n",
        "    - [x]  Dicionários: Criação e acesso aos dados\n",
        "    - [x]  Métodos da classe dict\n",
        "- ****Dominando Funções Python****\n",
        "    - [x]  Funções Python – Parte 01\n",
        "    - [x]  Funções Python – Parte 01\n",
        "- **Explorando IA Generativa em um Pipeline de ETL com Python**"
      ],
      "metadata": {
        "id": "NN2V8_70zxn6"
      }
    },
    {
      "cell_type": "markdown",
      "source": [
        "## **Módulo 1**"
      ],
      "metadata": {
        "id": "n0b892a7sH8V"
      }
    },
    {
      "cell_type": "markdown",
      "source": [
        "### **Ambiente de Desenvolvimento e Primeiros Passos com Python**"
      ],
      "metadata": {
        "id": "uRy7ztj-z7vL"
      }
    },
    {
      "cell_type": "markdown",
      "source": [
        "A linguagem de programação Python é uma linguagem multiparadigma, o que significa que ela suporta vários estilos de programação, incluindo programação estruturada, programação orientada a objetos e programação funcional. Isso a torna uma linguagem extremamente flexível, adequada para uma ampla variedade de tarefas e estilos de programação.\n",
        "\n",
        "Aqui está uma visão geral dos principais paradigmas suportados por Python:\n",
        "\n",
        "1. **Programação Estruturada:** Python suporta programação estruturada com construções como loops (for e while), condicionais (if, elif, else), funções e procedimentos. Você pode escrever código estruturado de maneira limpa e organizada em Python.\n",
        "\n",
        "2. **Programação Orientada a Objetos:** Python é amplamente conhecida por seu suporte à programação orientada a objetos. Ela permite a definição de classes e objetos, encapsulamento, herança, polimorfismo e outros conceitos associados à POO. Bibliotecas como numpy, pandas, scikit-learn e Django são exemplos de aplicativos que fazem uso extensivo da orientação a objetos em Python.\n",
        "\n",
        "3. **Programação Funcional:** Python também suporta programação funcional, incluindo recursos como funções de ordem superior, funções lambda, mapeamento, filtragem, redução, recursão e listas por compreensão. A linguagem oferece recursos que facilitam a escrita de código funcional.\n",
        "\n",
        "4. **Programação Imperativa:** Além dos paradigmas mencionados, Python também é uma linguagem imperativa. Isso significa que você pode usar estruturas de controle, variáveis mutáveis e realizar operações no estilo imperativo.\n",
        "\n",
        "5. **Programação Orientada a Eventos:** Python é amplamente utilizado para programação orientada a eventos, especialmente em desenvolvimento web e GUI (Interface Gráfica do Usuário). Bibliotecas como Tkinter para interfaces gráficas e frameworks da web como Flask e Django seguem esse paradigma.\n",
        "\n",
        "Devido a essa versatilidade, você pode escolher o estilo de programação que melhor se adapta ao seu projeto. Muitas vezes, uma combinação de paradigmas é usada em um único programa Python, tornando-o uma linguagem poderosa e adaptável para uma ampla gama de aplicações."
      ],
      "metadata": {
        "id": "CMlcQSJO1mMW"
      }
    },
    {
      "cell_type": "code",
      "source": [
        "print(\"Hello world!\")"
      ],
      "metadata": {
        "colab": {
          "base_uri": "https://localhost:8080/"
        },
        "id": "72_pw9ERz5lO",
        "outputId": "1022ca7f-e10f-42a8-8213-6afed09bb6cb"
      },
      "execution_count": null,
      "outputs": [
        {
          "output_type": "stream",
          "name": "stdout",
          "text": [
            "Hello world!\n"
          ]
        }
      ]
    },
    {
      "cell_type": "code",
      "source": [
        "print(\"Olá, mundo!\")"
      ],
      "metadata": {
        "colab": {
          "base_uri": "https://localhost:8080/"
        },
        "id": "TWGcHVfA26ur",
        "outputId": "2a857369-72b1-486e-a4ec-d38d563eb1f1"
      },
      "execution_count": null,
      "outputs": [
        {
          "output_type": "stream",
          "name": "stdout",
          "text": [
            "Olá, mundo!\n"
          ]
        }
      ]
    },
    {
      "cell_type": "markdown",
      "source": [
        "### **Conhecendo a Linguagem de Programação Python**"
      ],
      "metadata": {
        "id": "JHFeeOji2_iF"
      }
    },
    {
      "cell_type": "code",
      "source": [
        "help()"
      ],
      "metadata": {
        "colab": {
          "base_uri": "https://localhost:8080/"
        },
        "id": "03-ioKt77UF8",
        "outputId": "2883b199-da1a-4292-a447-6ca582da5bb9"
      },
      "execution_count": null,
      "outputs": [
        {
          "name": "stdout",
          "output_type": "stream",
          "text": [
            "\n",
            "Welcome to Python 3.10's help utility!\n",
            "\n",
            "If this is your first time using Python, you should definitely check out\n",
            "the tutorial on the internet at https://docs.python.org/3.10/tutorial/.\n",
            "\n",
            "Enter the name of any module, keyword, or topic to get help on writing\n",
            "Python programs and using Python modules.  To quit this help utility and\n",
            "return to the interpreter, just type \"quit\".\n",
            "\n",
            "To get a list of available modules, keywords, symbols, or topics, type\n",
            "\"modules\", \"keywords\", \"symbols\", or \"topics\".  Each module also comes\n",
            "with a one-line summary of what it does; to list the modules whose name\n",
            "or summary contain a given string such as \"spam\", type \"modules spam\".\n",
            "\n",
            "help> pandas\n"
          ]
        },
        {
          "output_type": "stream",
          "name": "stderr",
          "text": [
            "/usr/lib/python3.10/inspect.py:469: FutureWarning: pandas.Float64Index is deprecated and will be removed from pandas in a future version. Use pandas.Index with the appropriate dtype instead.\n",
            "  value = getattr(object, key)\n",
            "/usr/lib/python3.10/inspect.py:469: FutureWarning: pandas.Int64Index is deprecated and will be removed from pandas in a future version. Use pandas.Index with the appropriate dtype instead.\n",
            "  value = getattr(object, key)\n",
            "/usr/lib/python3.10/inspect.py:469: FutureWarning: pandas.UInt64Index is deprecated and will be removed from pandas in a future version. Use pandas.Index with the appropriate dtype instead.\n",
            "  value = getattr(object, key)\n",
            "IOPub data rate exceeded.\n",
            "The notebook server will temporarily stop sending output\n",
            "to the client in order to avoid crashing it.\n",
            "To change this limit, set the config variable\n",
            "`--NotebookApp.iopub_data_rate_limit`.\n",
            "\n",
            "Current values:\n",
            "NotebookApp.iopub_data_rate_limit=1000000.0 (bytes/sec)\n",
            "NotebookApp.rate_limit_window=3.0 (secs)\n",
            "\n"
          ]
        },
        {
          "output_type": "stream",
          "name": "stdout",
          "text": [
            "\n",
            "You are now leaving help and returning to the Python interpreter.\n",
            "If you want to ask for help on a particular object directly from the\n",
            "interpreter, you can type \"help(object)\".  Executing \"help('string')\"\n",
            "has the same effect as typing a particular string at the help> prompt.\n"
          ]
        }
      ]
    },
    {
      "cell_type": "markdown",
      "source": [
        "**Conversão Implícita:** Em muitos casos, Python pode realizar conversões de tipos implicitamente quando você opera com diferentes tipos de dados. Por exemplo, se você tentar somar um número inteiro com um número de ponto flutuante, o Python fará uma conversão implícita do inteiro para ponto flutuante para realizar a operação."
      ],
      "metadata": {
        "id": "ChXGWkm3Hlkv"
      }
    },
    {
      "cell_type": "code",
      "source": [
        "inteiro = 5\n",
        "ponto_flutuante = 3.5\n",
        "resultado = inteiro + ponto_flutuante  # Conversão implícita de int para float"
      ],
      "metadata": {
        "id": "yrweSZq8-c4H"
      },
      "execution_count": null,
      "outputs": []
    },
    {
      "cell_type": "markdown",
      "source": [
        "**Funções de Conversão de Tipo:** Python fornece funções embutidas que permitem converter valores de um tipo para outro. Algumas das funções de conversão de tipo comuns incluem:\n",
        "\n",
        "int(): Converte para um número inteiro.\n",
        "float(): Converte para um número de ponto flutuante.\n",
        "str(): Converte para uma string.\n",
        "list(): Converte para uma lista.\n",
        "tuple(): Converte para uma tupla.\n",
        "bool(): Converte para um valor booleano."
      ],
      "metadata": {
        "id": "lqPds1poHrI7"
      }
    },
    {
      "cell_type": "code",
      "source": [
        "numero = 42\n",
        "texto = str(numero)  # Converte int para str"
      ],
      "metadata": {
        "id": "24NCU5BEHvkd"
      },
      "execution_count": null,
      "outputs": []
    },
    {
      "cell_type": "markdown",
      "source": [
        "**Conversões Personalizadas:** Às vezes, você pode precisar realizar conversões personalizadas entre tipos. Isso pode ser feito criando suas próprias funções para fazer as conversões necessárias."
      ],
      "metadata": {
        "id": "YX5DNP8hHypt"
      }
    },
    {
      "cell_type": "code",
      "source": [
        "def string_para_int(texto):\n",
        "    try:\n",
        "        return int(texto)\n",
        "    except ValueError:\n",
        "        return None\n",
        "\n",
        "numero_em_texto = \"123\"\n",
        "numero = string_para_int(numero_em_texto)"
      ],
      "metadata": {
        "id": "bLh2ErqjHzti"
      },
      "execution_count": null,
      "outputs": []
    },
    {
      "cell_type": "markdown",
      "source": [
        "**Utilizando o Construtor de Tipo:** Para criar um novo objeto de um tipo específico, você pode usar o construtor desse tipo diretamente. Isso é comum ao trabalhar com tipos compostos, como listas ou tuplas."
      ],
      "metadata": {
        "id": "k7HJe11bH5dK"
      }
    },
    {
      "cell_type": "code",
      "source": [
        "lista = list((1, 2, 3))  # Cria uma lista a partir de uma tupla"
      ],
      "metadata": {
        "id": "mm0XOzaQH6gC"
      },
      "execution_count": null,
      "outputs": []
    },
    {
      "cell_type": "markdown",
      "source": [
        "**Conversão de Sequências:** Em Python, você pode usar técnicas de compreensão de lista para converter uma sequência de valores de um tipo para outro. Por exemplo, para converter uma lista de strings em uma lista de inteiros:"
      ],
      "metadata": {
        "id": "IgGteTuaH8FX"
      }
    },
    {
      "cell_type": "code",
      "source": [
        "lista_de_strings = [\"1\", \"2\", \"3\"]\n",
        "lista_de_inteiros = [int(x) for x in lista_de_strings]"
      ],
      "metadata": {
        "id": "lPV83uhdH-EJ"
      },
      "execution_count": null,
      "outputs": []
    },
    {
      "cell_type": "markdown",
      "source": [
        "### **Tipos de Operadores com Python**"
      ],
      "metadata": {
        "id": "agSB_sEXic_G"
      }
    },
    {
      "cell_type": "markdown",
      "source": [
        "#### **Operadores aritméticos**"
      ],
      "metadata": {
        "id": "CJOBGAz_ihdW"
      }
    },
    {
      "cell_type": "code",
      "source": [
        "soma = 5 + 3  # Resultado: 8"
      ],
      "metadata": {
        "id": "0U0GipRYilgk"
      },
      "execution_count": 1,
      "outputs": []
    },
    {
      "cell_type": "code",
      "source": [
        "diferença = 10 - 4  # Resultado: 6"
      ],
      "metadata": {
        "id": "CQCMts0kis4A"
      },
      "execution_count": 2,
      "outputs": []
    },
    {
      "cell_type": "code",
      "source": [
        "produto = 6 * 7  # Resultado: 42"
      ],
      "metadata": {
        "id": "JcjFjp4civFw"
      },
      "execution_count": 3,
      "outputs": []
    },
    {
      "cell_type": "code",
      "source": [
        "quociente = 15 / 3  # Resultado: 5.0 (float)"
      ],
      "metadata": {
        "id": "dXbmDQEHixU3"
      },
      "execution_count": 4,
      "outputs": []
    },
    {
      "cell_type": "code",
      "source": [
        "quociente_inteiro = 15 // 3  # Resultado: 5"
      ],
      "metadata": {
        "id": "Pixx13rLiyQM"
      },
      "execution_count": 5,
      "outputs": []
    },
    {
      "cell_type": "code",
      "source": [
        "resto = 10 % 3  # Resultado: 1"
      ],
      "metadata": {
        "id": "3wOAYOUYiznJ"
      },
      "execution_count": 6,
      "outputs": []
    },
    {
      "cell_type": "code",
      "source": [
        "potencia = 2 ** 3  # Resultado: 8"
      ],
      "metadata": {
        "id": "czva8kpDi3Yd"
      },
      "execution_count": 7,
      "outputs": []
    },
    {
      "cell_type": "code",
      "source": [
        "x = 5\n",
        "x += 3  # Isso é equivalente a x = x + 3"
      ],
      "metadata": {
        "id": "J6uyBjBji49P"
      },
      "execution_count": 8,
      "outputs": []
    },
    {
      "cell_type": "markdown",
      "source": [
        "#### **Operadores de comparação**"
      ],
      "metadata": {
        "id": "VOmrE9vxmXAw"
      }
    },
    {
      "cell_type": "code",
      "source": [
        "5 == 5  # Resultado: True\n",
        "\"python\" == \"Python\"  # Resultado: False"
      ],
      "metadata": {
        "colab": {
          "base_uri": "https://localhost:8080/"
        },
        "id": "UwheXDAjmcU3",
        "outputId": "5916a67c-44ce-4853-f71a-1d04109bbc88"
      },
      "execution_count": 11,
      "outputs": [
        {
          "output_type": "execute_result",
          "data": {
            "text/plain": [
              "False"
            ]
          },
          "metadata": {},
          "execution_count": 11
        }
      ]
    },
    {
      "cell_type": "code",
      "source": [
        "5 != 3  # Resultado: True\n",
        "\"python\" != \"Python\"  # Resultado: True"
      ],
      "metadata": {
        "colab": {
          "base_uri": "https://localhost:8080/"
        },
        "id": "1BPzlQi6meON",
        "outputId": "fd5befd8-5982-4bd1-b32f-fb4e77a1cd25"
      },
      "execution_count": 13,
      "outputs": [
        {
          "output_type": "execute_result",
          "data": {
            "text/plain": [
              "True"
            ]
          },
          "metadata": {},
          "execution_count": 13
        }
      ]
    },
    {
      "cell_type": "code",
      "source": [
        "5 > 3  # Resultado: True\n",
        "3 > 5  # Resultado: False"
      ],
      "metadata": {
        "colab": {
          "base_uri": "https://localhost:8080/"
        },
        "id": "vFEc6H_fmfgr",
        "outputId": "bb2b6dbf-1617-431f-f276-a41613dbdeb5"
      },
      "execution_count": 14,
      "outputs": [
        {
          "output_type": "execute_result",
          "data": {
            "text/plain": [
              "False"
            ]
          },
          "metadata": {},
          "execution_count": 14
        }
      ]
    },
    {
      "cell_type": "code",
      "source": [
        "3 < 5  # Resultado: True\n",
        "5 < 3  # Resultado: False"
      ],
      "metadata": {
        "colab": {
          "base_uri": "https://localhost:8080/"
        },
        "id": "4vKrphwumhX6",
        "outputId": "5a84faf3-4a10-423f-9ddb-893cafcd806a"
      },
      "execution_count": 15,
      "outputs": [
        {
          "output_type": "execute_result",
          "data": {
            "text/plain": [
              "False"
            ]
          },
          "metadata": {},
          "execution_count": 15
        }
      ]
    },
    {
      "cell_type": "code",
      "source": [
        "5 >= 3  # Resultado: True\n",
        "5 >= 5  # Resultado: True"
      ],
      "metadata": {
        "colab": {
          "base_uri": "https://localhost:8080/"
        },
        "id": "aTj-8hq_mj1y",
        "outputId": "0c2b0066-73bf-4ad0-ef8d-9c7236759d39"
      },
      "execution_count": 16,
      "outputs": [
        {
          "output_type": "execute_result",
          "data": {
            "text/plain": [
              "True"
            ]
          },
          "metadata": {},
          "execution_count": 16
        }
      ]
    },
    {
      "cell_type": "code",
      "source": [
        "3 <= 5  # Resultado: True\n",
        "3 <= 3  # Resultado: True"
      ],
      "metadata": {
        "colab": {
          "base_uri": "https://localhost:8080/"
        },
        "id": "7h01p4j0mlun",
        "outputId": "e8d30684-4306-46f7-a2fb-c8bff8626b20"
      },
      "execution_count": 17,
      "outputs": [
        {
          "output_type": "execute_result",
          "data": {
            "text/plain": [
              "True"
            ]
          },
          "metadata": {},
          "execution_count": 17
        }
      ]
    },
    {
      "cell_type": "markdown",
      "source": [
        "#### **Operadores de atribuição**"
      ],
      "metadata": {
        "id": "59xfFws_mn3B"
      }
    },
    {
      "cell_type": "code",
      "source": [
        "x = 5\n",
        "x"
      ],
      "metadata": {
        "colab": {
          "base_uri": "https://localhost:8080/"
        },
        "id": "kBArN_JimsBJ",
        "outputId": "3c8ea142-ffa4-4598-f391-0b530ec9bc4a"
      },
      "execution_count": 19,
      "outputs": [
        {
          "output_type": "execute_result",
          "data": {
            "text/plain": [
              "5"
            ]
          },
          "metadata": {},
          "execution_count": 19
        }
      ]
    },
    {
      "cell_type": "code",
      "source": [
        "x = 5\n",
        "x += 3  # Isso é equivalente a x = x + 3\n",
        "x"
      ],
      "metadata": {
        "colab": {
          "base_uri": "https://localhost:8080/"
        },
        "id": "T3ASYrgLmu9K",
        "outputId": "fc282762-4208-4e53-c977-0aeda4ffa3b0"
      },
      "execution_count": 20,
      "outputs": [
        {
          "output_type": "execute_result",
          "data": {
            "text/plain": [
              "8"
            ]
          },
          "metadata": {},
          "execution_count": 20
        }
      ]
    },
    {
      "cell_type": "code",
      "source": [
        "x = 10\n",
        "x -= 4  # Isso é equivalente a x = x - 4\n",
        "x"
      ],
      "metadata": {
        "colab": {
          "base_uri": "https://localhost:8080/"
        },
        "id": "cNN_3C2umyZz",
        "outputId": "c0970055-fac3-423a-f3b6-5bd5cfda200d"
      },
      "execution_count": 21,
      "outputs": [
        {
          "output_type": "execute_result",
          "data": {
            "text/plain": [
              "6"
            ]
          },
          "metadata": {},
          "execution_count": 21
        }
      ]
    },
    {
      "cell_type": "code",
      "source": [
        "x = 3\n",
        "x *= 2  # Isso é equivalente a x = x * 2\n",
        "x"
      ],
      "metadata": {
        "colab": {
          "base_uri": "https://localhost:8080/"
        },
        "id": "STEDnYTTm1Kl",
        "outputId": "a69b873a-202c-4397-f117-420447e2fbe1"
      },
      "execution_count": 22,
      "outputs": [
        {
          "output_type": "execute_result",
          "data": {
            "text/plain": [
              "6"
            ]
          },
          "metadata": {},
          "execution_count": 22
        }
      ]
    },
    {
      "cell_type": "code",
      "source": [
        "x = 20\n",
        "x /= 5  # Isso é equivalente a x = x / 5\n",
        "x"
      ],
      "metadata": {
        "colab": {
          "base_uri": "https://localhost:8080/"
        },
        "id": "HHSBnd4_m2YA",
        "outputId": "b0a51ab3-e5f0-401c-c274-2b2c0960e47e"
      },
      "execution_count": 23,
      "outputs": [
        {
          "output_type": "execute_result",
          "data": {
            "text/plain": [
              "4.0"
            ]
          },
          "metadata": {},
          "execution_count": 23
        }
      ]
    },
    {
      "cell_type": "code",
      "source": [
        "x = 15\n",
        "x %= 4  # Isso é equivalente a x = x % 4\n",
        "x"
      ],
      "metadata": {
        "colab": {
          "base_uri": "https://localhost:8080/"
        },
        "id": "8HtxtZdrm5iT",
        "outputId": "b838b39a-1e34-428f-de5c-4089851a76a8"
      },
      "execution_count": 25,
      "outputs": [
        {
          "output_type": "execute_result",
          "data": {
            "text/plain": [
              "3"
            ]
          },
          "metadata": {},
          "execution_count": 25
        }
      ]
    },
    {
      "cell_type": "code",
      "source": [
        "x = 20\n",
        "x //= 3  # Isso é equivalente a x = x // 3\n",
        "x"
      ],
      "metadata": {
        "colab": {
          "base_uri": "https://localhost:8080/"
        },
        "id": "1zBC7IGIm6_l",
        "outputId": "4a60b069-6e1d-4b8f-a9ff-bb976a074caf"
      },
      "execution_count": 26,
      "outputs": [
        {
          "output_type": "execute_result",
          "data": {
            "text/plain": [
              "6"
            ]
          },
          "metadata": {},
          "execution_count": 26
        }
      ]
    },
    {
      "cell_type": "code",
      "source": [
        "x = 2\n",
        "x **= 3  # Isso é equivalente a x = x ** 3\n",
        "x"
      ],
      "metadata": {
        "colab": {
          "base_uri": "https://localhost:8080/"
        },
        "id": "oNyG0ywvm8lN",
        "outputId": "0488cf64-9fa8-4561-f4c8-cfef5ffb04ca"
      },
      "execution_count": 27,
      "outputs": [
        {
          "output_type": "execute_result",
          "data": {
            "text/plain": [
              "8"
            ]
          },
          "metadata": {},
          "execution_count": 27
        }
      ]
    },
    {
      "cell_type": "markdown",
      "source": [
        "#### **Operadores Lógicos**"
      ],
      "metadata": {
        "id": "EYYbltPfnFMV"
      }
    },
    {
      "cell_type": "code",
      "source": [
        "x = True\n",
        "y = False\n",
        "resultado = x and y  # Resultado é False\n",
        "resultado"
      ],
      "metadata": {
        "colab": {
          "base_uri": "https://localhost:8080/"
        },
        "id": "nNpVdRb7nIyB",
        "outputId": "fd657aee-5447-4fb0-f982-01a8a16b946e"
      },
      "execution_count": 6,
      "outputs": [
        {
          "output_type": "execute_result",
          "data": {
            "text/plain": [
              "False"
            ]
          },
          "metadata": {},
          "execution_count": 6
        }
      ]
    },
    {
      "cell_type": "code",
      "source": [
        "x = True\n",
        "y = False\n",
        "resultado = x or y  # Resultado é True\n",
        "resultado"
      ],
      "metadata": {
        "colab": {
          "base_uri": "https://localhost:8080/"
        },
        "id": "VgHj8sv7mlHy",
        "outputId": "59de06f8-f3cd-4233-8feb-f32979de9fc6"
      },
      "execution_count": 7,
      "outputs": [
        {
          "output_type": "execute_result",
          "data": {
            "text/plain": [
              "True"
            ]
          },
          "metadata": {},
          "execution_count": 7
        }
      ]
    },
    {
      "cell_type": "code",
      "source": [
        "x = True\n",
        "resultado = not x  # Resultado é False\n",
        "resultado"
      ],
      "metadata": {
        "colab": {
          "base_uri": "https://localhost:8080/"
        },
        "id": "FGqa5Z_Fmmpn",
        "outputId": "018d6854-519a-4ff7-be94-6e70788b9c26"
      },
      "execution_count": 8,
      "outputs": [
        {
          "output_type": "execute_result",
          "data": {
            "text/plain": [
              "False"
            ]
          },
          "metadata": {},
          "execution_count": 8
        }
      ]
    },
    {
      "cell_type": "markdown",
      "source": [
        "#### **Operadores de Identidade**"
      ],
      "metadata": {
        "id": "VZlFwaLVEqUN"
      }
    },
    {
      "cell_type": "code",
      "source": [
        "x = [1, 2, 3]\n",
        "y = x\n",
        "resultado = x is y  # Resultado é True, porque ambos x e y se referem ao mesmo objeto na memória.\n",
        "resultado"
      ],
      "metadata": {
        "colab": {
          "base_uri": "https://localhost:8080/"
        },
        "id": "UH-vmH8EfjvK",
        "outputId": "cfab3d1b-81e5-4fed-cb48-d78f3bcbcf16"
      },
      "execution_count": 10,
      "outputs": [
        {
          "output_type": "execute_result",
          "data": {
            "text/plain": [
              "True"
            ]
          },
          "metadata": {},
          "execution_count": 10
        }
      ]
    },
    {
      "cell_type": "code",
      "source": [
        "a = [1, 2, 3]\n",
        "b = [1, 2, 3]\n",
        "resultado = a is not b  # Resultado é True, porque a e b são objetos diferentes, apesar de terem valores iguais.\n",
        "resultado"
      ],
      "metadata": {
        "colab": {
          "base_uri": "https://localhost:8080/"
        },
        "id": "X9G3j6bOm5Jo",
        "outputId": "ea9c4c3c-ba52-40d9-fdce-02e6bdb7cb3e"
      },
      "execution_count": 11,
      "outputs": [
        {
          "output_type": "execute_result",
          "data": {
            "text/plain": [
              "True"
            ]
          },
          "metadata": {},
          "execution_count": 11
        }
      ]
    },
    {
      "cell_type": "markdown",
      "source": [
        "#### **Operadores de Associação**"
      ],
      "metadata": {
        "id": "dEmuU2CMJOx8"
      }
    },
    {
      "cell_type": "code",
      "source": [
        "lista = [1, 2, 3, 4, 5]\n",
        "resultado = 3 in lista  # Resultado é True, pois 3 está na lista.\n",
        "resultado"
      ],
      "metadata": {
        "colab": {
          "base_uri": "https://localhost:8080/"
        },
        "id": "05H3fibyfkqd",
        "outputId": "ff1378bf-4899-43fb-a5e4-c96682155c07"
      },
      "execution_count": 12,
      "outputs": [
        {
          "output_type": "execute_result",
          "data": {
            "text/plain": [
              "True"
            ]
          },
          "metadata": {},
          "execution_count": 12
        }
      ]
    },
    {
      "cell_type": "code",
      "source": [
        "texto = \"Python\"\n",
        "resultado = \"t\" in texto  # Resultado é True, pois \"t\" está na string.\n",
        "resultado"
      ],
      "metadata": {
        "colab": {
          "base_uri": "https://localhost:8080/"
        },
        "id": "3e0dwS9evE_W",
        "outputId": "9dc87078-73fd-438c-d5bc-4afb5d3f9c33"
      },
      "execution_count": 13,
      "outputs": [
        {
          "output_type": "execute_result",
          "data": {
            "text/plain": [
              "True"
            ]
          },
          "metadata": {},
          "execution_count": 13
        }
      ]
    },
    {
      "cell_type": "code",
      "source": [
        "lista = [1, 2, 3, 4, 5]\n",
        "resultado = 6 not in lista  # Resultado é True, pois 6 não está na lista.\n",
        "resultado"
      ],
      "metadata": {
        "colab": {
          "base_uri": "https://localhost:8080/"
        },
        "id": "Jf-Svf0gvJuY",
        "outputId": "a41d611a-7a94-4457-edd3-41fa0149c1ab"
      },
      "execution_count": 14,
      "outputs": [
        {
          "output_type": "execute_result",
          "data": {
            "text/plain": [
              "True"
            ]
          },
          "metadata": {},
          "execution_count": 14
        }
      ]
    },
    {
      "cell_type": "code",
      "source": [
        "texto = \"Python\"\n",
        "resultado = \"z\" not in texto  # Resultado é True, pois \"z\" não está na string.\n",
        "resultado"
      ],
      "metadata": {
        "colab": {
          "base_uri": "https://localhost:8080/"
        },
        "id": "ceZA2j8ivMbj",
        "outputId": "6f5621a9-aef9-44ed-aca8-f92f71676286"
      },
      "execution_count": 15,
      "outputs": [
        {
          "output_type": "execute_result",
          "data": {
            "text/plain": [
              "True"
            ]
          },
          "metadata": {},
          "execution_count": 15
        }
      ]
    },
    {
      "cell_type": "markdown",
      "source": [
        "### **Estruturas Condicionais e de Repetição em Python**"
      ],
      "metadata": {
        "id": "_HO-YYU_vRxI"
      }
    },
    {
      "cell_type": "code",
      "source": [],
      "metadata": {
        "id": "nS6WEfikvZkw"
      },
      "execution_count": null,
      "outputs": []
    },
    {
      "cell_type": "markdown",
      "source": [
        "### **Manipulando Strings com Python**"
      ],
      "metadata": {
        "id": "Kh_nHOUmWdq-"
      }
    },
    {
      "cell_type": "code",
      "source": [
        "string1 = \"Olá\"\n",
        "string2 = \" Mundo\"\n",
        "resultado = string1 + string2  # Resultado: \"Olá Mundo\"\n",
        "\n",
        "resultado"
      ],
      "metadata": {
        "colab": {
          "base_uri": "https://localhost:8080/",
          "height": 0
        },
        "id": "Wk1KkhsSXVcM",
        "outputId": "f583baca-2107-47ba-8b5b-1493b95c047e"
      },
      "execution_count": 9,
      "outputs": [
        {
          "output_type": "execute_result",
          "data": {
            "text/plain": [
              "'Olá Mundo'"
            ],
            "application/vnd.google.colaboratory.intrinsic+json": {
              "type": "string"
            }
          },
          "metadata": {},
          "execution_count": 9
        }
      ]
    },
    {
      "cell_type": "code",
      "source": [
        "texto = \"Python\"\n",
        "comprimento = len(texto)  # Resultado: 6\n",
        "\n",
        "comprimento"
      ],
      "metadata": {
        "colab": {
          "base_uri": "https://localhost:8080/"
        },
        "id": "tIDrIpIlYpBf",
        "outputId": "cd291d7e-5d44-4255-fd15-cf5c2dc56266"
      },
      "execution_count": 10,
      "outputs": [
        {
          "output_type": "execute_result",
          "data": {
            "text/plain": [
              "6"
            ]
          },
          "metadata": {},
          "execution_count": 10
        }
      ]
    },
    {
      "cell_type": "code",
      "source": [
        "texto = \"Python\"\n",
        "primeiro_caractere = texto[0]  # Resultado: \"P\"\n",
        "parte_da_string = texto[1:4]  # Resultado: \"yth\"\n",
        "\n",
        "primeiro_caractere, parte_da_string"
      ],
      "metadata": {
        "colab": {
          "base_uri": "https://localhost:8080/"
        },
        "id": "T2xisNvxYp1H",
        "outputId": "cf3ed1eb-3803-4ecf-f69a-7f3394bb9ba0"
      },
      "execution_count": 12,
      "outputs": [
        {
          "output_type": "execute_result",
          "data": {
            "text/plain": [
              "('P', 'yth')"
            ]
          },
          "metadata": {},
          "execution_count": 12
        }
      ]
    },
    {
      "cell_type": "code",
      "source": [
        "texto = \"Python\"\n",
        "maiusculas = texto.upper()  # Resultado: \"PYTHON\"\n",
        "minusculas = texto.lower()  # Resultado: \"python\"\n",
        "\n",
        "maiusculas, minusculas"
      ],
      "metadata": {
        "colab": {
          "base_uri": "https://localhost:8080/"
        },
        "id": "2X_bXq8xYs9d",
        "outputId": "1eaecce0-f02a-40d7-d922-2fbc7fcef945"
      },
      "execution_count": 13,
      "outputs": [
        {
          "output_type": "execute_result",
          "data": {
            "text/plain": [
              "('PYTHON', 'python')"
            ]
          },
          "metadata": {},
          "execution_count": 13
        }
      ]
    },
    {
      "cell_type": "code",
      "source": [
        "texto = \"Olá, Mundo!\"\n",
        "novo_texto = texto.replace(\"Mundo\", \"Python\")  # Resultado: \"Olá, Python!\"\n",
        "\n",
        "novo_texto"
      ],
      "metadata": {
        "colab": {
          "base_uri": "https://localhost:8080/",
          "height": 0
        },
        "id": "SsAjZeMbYvJX",
        "outputId": "54e27ead-bd95-49b3-a7ee-03978c4d1ab4"
      },
      "execution_count": 14,
      "outputs": [
        {
          "output_type": "execute_result",
          "data": {
            "text/plain": [
              "'Olá, Python!'"
            ],
            "application/vnd.google.colaboratory.intrinsic+json": {
              "type": "string"
            }
          },
          "metadata": {},
          "execution_count": 14
        }
      ]
    },
    {
      "cell_type": "code",
      "source": [
        "frase = \"Python é divertido\"\n",
        "palavras = frase.split()  # Resultado: ['Python', 'é', 'divertido']\n",
        "\n",
        "palavras"
      ],
      "metadata": {
        "colab": {
          "base_uri": "https://localhost:8080/"
        },
        "id": "xL9DN89IYyfw",
        "outputId": "2105fede-f116-4847-a74c-f8ee340ea1b3"
      },
      "execution_count": 15,
      "outputs": [
        {
          "output_type": "execute_result",
          "data": {
            "text/plain": [
              "['Python', 'é', 'divertido']"
            ]
          },
          "metadata": {},
          "execution_count": 15
        }
      ]
    },
    {
      "cell_type": "code",
      "source": [
        "texto = \"  Python   \"\n",
        "sem_espacos = texto.strip()  # Resultado: \"Python\"\n",
        "\n",
        "sem_espacos"
      ],
      "metadata": {
        "colab": {
          "base_uri": "https://localhost:8080/",
          "height": 0
        },
        "id": "5WKcA7cRb2gE",
        "outputId": "8195c228-5b04-4fe1-8302-c80e3878c58b"
      },
      "execution_count": 18,
      "outputs": [
        {
          "output_type": "execute_result",
          "data": {
            "text/plain": [
              "'Python'"
            ],
            "application/vnd.google.colaboratory.intrinsic+json": {
              "type": "string"
            }
          },
          "metadata": {},
          "execution_count": 18
        }
      ]
    },
    {
      "cell_type": "code",
      "source": [
        "texto = \"Python é uma linguagem de programação\"\n",
        "posicao = texto.find(\"linguagem\")  # Resultado: 13\n",
        "\n",
        "posicao"
      ],
      "metadata": {
        "colab": {
          "base_uri": "https://localhost:8080/"
        },
        "id": "-1dj_BS5b-vz",
        "outputId": "38b0e553-9282-44f5-ac5f-d1b51fa448d3"
      },
      "execution_count": 19,
      "outputs": [
        {
          "output_type": "execute_result",
          "data": {
            "text/plain": [
              "13"
            ]
          },
          "metadata": {},
          "execution_count": 19
        }
      ]
    },
    {
      "cell_type": "code",
      "source": [
        "texto = \"Python é uma linguagem de programação. Python é poderoso.\"\n",
        "contagem = texto.count(\"Python\")  # Resultado: 2\n",
        "\n",
        "contagem"
      ],
      "metadata": {
        "colab": {
          "base_uri": "https://localhost:8080/"
        },
        "id": "DcyijwopcBWW",
        "outputId": "3d415c46-9bb2-47d9-ef58-8a86afecb90e"
      },
      "execution_count": 20,
      "outputs": [
        {
          "output_type": "execute_result",
          "data": {
            "text/plain": [
              "2"
            ]
          },
          "metadata": {},
          "execution_count": 20
        }
      ]
    },
    {
      "cell_type": "code",
      "source": [
        "texto1 = \"Python\"\n",
        "texto2 = \"123\"\n",
        "alfa = texto1.isalpha()  # Resultado: True\n",
        "digito = texto2.isdigit()  # Resultado: True\n",
        "\n",
        "alfa, digito"
      ],
      "metadata": {
        "colab": {
          "base_uri": "https://localhost:8080/"
        },
        "id": "EovV-CNqcECo",
        "outputId": "d05f7a4f-8def-4022-a4fb-54c477207607"
      },
      "execution_count": 22,
      "outputs": [
        {
          "output_type": "execute_result",
          "data": {
            "text/plain": [
              "(True, True)"
            ]
          },
          "metadata": {},
          "execution_count": 22
        }
      ]
    },
    {
      "cell_type": "code",
      "source": [
        "texto = \"python é divertido\"\n",
        "capitalizado = texto.capitalize()  # Resultado: \"Python é divertido\"\n",
        "titulo = texto.title()  # Resultado: \"Python É Divertido\"\n",
        "troca_maiuscula = texto.swapcase()  # Resultado: \"PYTHON É DIVERTIDO\"\n",
        "\n",
        "capitalizado, titulo, troca_maiuscula"
      ],
      "metadata": {
        "colab": {
          "base_uri": "https://localhost:8080/"
        },
        "id": "cyyDMx0gcOFu",
        "outputId": "8aef2e4a-3445-450b-82c6-6071a10eacc1"
      },
      "execution_count": 23,
      "outputs": [
        {
          "output_type": "execute_result",
          "data": {
            "text/plain": [
              "('Python é divertido', 'Python É Divertido', 'PYTHON É DIVERTIDO')"
            ]
          },
          "metadata": {},
          "execution_count": 23
        }
      ]
    },
    {
      "cell_type": "code",
      "source": [
        "texto = \"Python é divertido\"\n",
        "começa_com = texto.startswith(\"Python\")  # Resultado: True\n",
        "termina_com = texto.endswith(\"divertido\")  # Resultado: True\n",
        "\n",
        "começa_com, termina_com"
      ],
      "metadata": {
        "colab": {
          "base_uri": "https://localhost:8080/"
        },
        "id": "J13ii5_AcVEp",
        "outputId": "54c2a08a-1e9a-4bc9-c050-270646855b0b"
      },
      "execution_count": 24,
      "outputs": [
        {
          "output_type": "execute_result",
          "data": {
            "text/plain": [
              "(True, True)"
            ]
          },
          "metadata": {},
          "execution_count": 24
        }
      ]
    },
    {
      "cell_type": "markdown",
      "source": [
        "**Formatação do print()**"
      ],
      "metadata": {
        "id": "-9SoXOTPcv6i"
      }
    },
    {
      "cell_type": "code",
      "source": [
        "nome = \"Alice\"\n",
        "idade = 30\n",
        "mensagem = f\"Meu nome é {nome} e tenho {idade} anos.\"\n",
        "\n",
        "mensagem"
      ],
      "metadata": {
        "colab": {
          "base_uri": "https://localhost:8080/",
          "height": 0
        },
        "id": "thGZ7inrYzF3",
        "outputId": "90b6b9fe-a49b-4915-a144-70b0185bf4a0"
      },
      "execution_count": 16,
      "outputs": [
        {
          "output_type": "execute_result",
          "data": {
            "text/plain": [
              "'Meu nome é Alice e tenho 30 anos.'"
            ],
            "application/vnd.google.colaboratory.intrinsic+json": {
              "type": "string"
            }
          },
          "metadata": {},
          "execution_count": 16
        }
      ]
    },
    {
      "cell_type": "code",
      "source": [
        "nome = \"Bob\"\n",
        "idade = 25\n",
        "mensagem = \"Meu nome é {} e tenho {} anos.\".format(nome, idade)\n",
        "\n",
        "mensagem"
      ],
      "metadata": {
        "colab": {
          "base_uri": "https://localhost:8080/",
          "height": 0
        },
        "id": "rm56DghqY3CL",
        "outputId": "27871d15-ba1d-42e8-ab96-674fc4d862e9"
      },
      "execution_count": 17,
      "outputs": [
        {
          "output_type": "execute_result",
          "data": {
            "text/plain": [
              "'Meu nome é Bob e tenho 25 anos.'"
            ],
            "application/vnd.google.colaboratory.intrinsic+json": {
              "type": "string"
            }
          },
          "metadata": {},
          "execution_count": 17
        }
      ]
    },
    {
      "cell_type": "code",
      "source": [
        "nome = \"Charlie\"\n",
        "idade = 35\n",
        "mensagem = \"Meu nome é %s e tenho %d anos.\" % (nome, idade)\n",
        "print(mensagem)"
      ],
      "metadata": {
        "colab": {
          "base_uri": "https://localhost:8080/"
        },
        "id": "LysniEi5c1nR",
        "outputId": "25c34e1e-31b5-4810-f8e6-69861751442c"
      },
      "execution_count": 25,
      "outputs": [
        {
          "output_type": "stream",
          "name": "stdout",
          "text": [
            "Meu nome é Charlie e tenho 35 anos.\n"
          ]
        }
      ]
    },
    {
      "cell_type": "code",
      "source": [
        "preco = 123.456789\n",
        "print(f\"Preço: R${preco:.2f}\")  # Exibe duas casas decimais: \"Preço: R$123.46\""
      ],
      "metadata": {
        "colab": {
          "base_uri": "https://localhost:8080/"
        },
        "id": "FdGdzgVLc3dE",
        "outputId": "1414386c-4378-49af-ce25-5700e2ca338b"
      },
      "execution_count": 26,
      "outputs": [
        {
          "output_type": "stream",
          "name": "stdout",
          "text": [
            "Preço: R$123.46\n"
          ]
        }
      ]
    },
    {
      "cell_type": "code",
      "source": [
        "print(\"Olá\", \"Mundo\", sep=\" - \", end=\"!\\n\")  # Resultado: \"Olá - Mundo!\""
      ],
      "metadata": {
        "colab": {
          "base_uri": "https://localhost:8080/"
        },
        "id": "WlqYQ_jUc9j_",
        "outputId": "359fc5b4-0f81-4a28-f4b2-cb9418b45c5b"
      },
      "execution_count": 27,
      "outputs": [
        {
          "output_type": "stream",
          "name": "stdout",
          "text": [
            "Olá - Mundo!\n"
          ]
        }
      ]
    },
    {
      "cell_type": "markdown",
      "source": [
        "**Recuos e etc**"
      ],
      "metadata": {
        "id": "SAjFshF_fLz4"
      }
    },
    {
      "cell_type": "code",
      "source": [
        "texto = \"Texto recuado\"\n",
        "recuo = \" \" * 4\n",
        "print(recuo + texto)"
      ],
      "metadata": {
        "colab": {
          "base_uri": "https://localhost:8080/"
        },
        "id": "W-Aqj-_pfOba",
        "outputId": "867c75a4-0711-4220-b98f-6cdb230affe3"
      },
      "execution_count": 28,
      "outputs": [
        {
          "output_type": "stream",
          "name": "stdout",
          "text": [
            "    Texto recuado\n"
          ]
        }
      ]
    },
    {
      "cell_type": "code",
      "source": [
        "nomes = [\"Alice\", \"Bob\", \"Charlie\"]\n",
        "idades = [30, 25, 35]\n",
        "for nome, idade in zip(nomes, idades):\n",
        "    print(\"{:10} {:3}\".format(nome, idade))"
      ],
      "metadata": {
        "colab": {
          "base_uri": "https://localhost:8080/"
        },
        "id": "n2yE14AkfPXO",
        "outputId": "deb008a2-49c9-47fe-c082-9377bffd6bea"
      },
      "execution_count": 30,
      "outputs": [
        {
          "output_type": "stream",
          "name": "stdout",
          "text": [
            "Alice       30\n",
            "Bob         25\n",
            "Charlie     35\n"
          ]
        }
      ]
    },
    {
      "cell_type": "code",
      "source": [
        "import pandas as pd\n",
        "\n",
        "data = {'Nome': ['Alice', 'Bob', 'Charlie'],\n",
        "        'Idade': [30, 25, 35]}\n",
        "\n",
        "df = pd.DataFrame(data)\n",
        "print(df.to_string(index=False))"
      ],
      "metadata": {
        "colab": {
          "base_uri": "https://localhost:8080/"
        },
        "id": "DKGon0NOfStA",
        "outputId": "3e9ef3c1-fc27-425c-f6c6-d563803d15d0"
      },
      "execution_count": 31,
      "outputs": [
        {
          "output_type": "stream",
          "name": "stdout",
          "text": [
            "   Nome  Idade\n",
            "  Alice     30\n",
            "    Bob     25\n",
            "Charlie     35\n"
          ]
        }
      ]
    },
    {
      "cell_type": "code",
      "source": [
        "from pprint import pprint\n",
        "\n",
        "dados = {\n",
        "    'Nome': 'Alice',\n",
        "    'Idade': 30,\n",
        "    'Detalhes': {'Cidade': 'Nova Iorque', 'Profissão': 'Engenheira'}\n",
        "}\n",
        "\n",
        "pprint(dados)"
      ],
      "metadata": {
        "colab": {
          "base_uri": "https://localhost:8080/"
        },
        "id": "M-QrPyctffMN",
        "outputId": "68e8e985-3bd7-45d6-d3b5-473dac0e069a"
      },
      "execution_count": 33,
      "outputs": [
        {
          "output_type": "stream",
          "name": "stdout",
          "text": [
            "{'Detalhes': {'Cidade': 'Nova Iorque', 'Profissão': 'Engenheira'},\n",
            " 'Idade': 30,\n",
            " 'Nome': 'Alice'}\n"
          ]
        }
      ]
    },
    {
      "cell_type": "markdown",
      "source": [
        "## **Módulo 2**"
      ],
      "metadata": {
        "id": "0HsV1J7ssATA"
      }
    },
    {
      "cell_type": "markdown",
      "source": [
        "### **Listas**"
      ],
      "metadata": {
        "id": "FAGIH30N11le"
      }
    },
    {
      "cell_type": "code",
      "source": [
        "frutas = [\"laranja\", \"maca\", \"uva\"]\n",
        "print(frutas)\n",
        "\n",
        "frutas = []\n",
        "print(frutas)\n",
        "\n",
        "letras = list(\"python\")\n",
        "print(letras)\n",
        "\n",
        "numeros = list(range(10))\n",
        "print(numeros)\n",
        "\n",
        "carro = [\"Ferrari\", \"F8\", 4200000, 2020, 2900, \"São Paulo\", True]\n",
        "print(carro)"
      ],
      "metadata": {
        "colab": {
          "base_uri": "https://localhost:8080/"
        },
        "id": "gHizwrZrq0A8",
        "outputId": "b6657ee2-70ad-4ccd-a96c-7e38aafa04e6"
      },
      "execution_count": 28,
      "outputs": [
        {
          "output_type": "stream",
          "name": "stdout",
          "text": [
            "['laranja', 'maca', 'uva']\n",
            "[]\n",
            "['p', 'y', 't', 'h', 'o', 'n']\n",
            "[0, 1, 2, 3, 4, 5, 6, 7, 8, 9]\n",
            "['Ferrari', 'F8', 4200000, 2020, 2900, 'São Paulo', True]\n"
          ]
        }
      ]
    },
    {
      "cell_type": "code",
      "source": [
        "frutas = [\"maçã\", \"laranja\", \"uva\", \"pera\"]\n",
        "\n",
        "print(frutas[0])  # maçã\n",
        "print(frutas[2])  # uva"
      ],
      "metadata": {
        "colab": {
          "base_uri": "https://localhost:8080/"
        },
        "id": "oOp2DpT-rK5S",
        "outputId": "81ce4ba9-0613-4044-fe53-6d1e1d251108"
      },
      "execution_count": 29,
      "outputs": [
        {
          "output_type": "stream",
          "name": "stdout",
          "text": [
            "maçã\n",
            "uva\n"
          ]
        }
      ]
    },
    {
      "cell_type": "code",
      "source": [
        "frutas = [\"maçã\", \"laranja\", \"uva\", \"pera\"]\n",
        "\n",
        "print(frutas[-1])  # pera\n",
        "print(frutas[-3])  # laranja"
      ],
      "metadata": {
        "colab": {
          "base_uri": "https://localhost:8080/"
        },
        "id": "vK2aiomHrNW2",
        "outputId": "bb5880d2-8f9e-45eb-81b5-98ea23ec83ed"
      },
      "execution_count": 30,
      "outputs": [
        {
          "output_type": "stream",
          "name": "stdout",
          "text": [
            "pera\n",
            "laranja\n"
          ]
        }
      ]
    },
    {
      "cell_type": "code",
      "source": [
        "matriz = [\n",
        "    [1, \"a\", 2],\n",
        "    [\"b\", 3, 4],\n",
        "    [6, 5, \"c\"]\n",
        "]\n",
        "\n",
        "print(matriz[0])  # [1, \"a\", 2]\n",
        "print(matriz[0][0])  # 1\n",
        "print(matriz[0][-1])  # 2\n",
        "print(matriz[-1][-1])  # \"c\""
      ],
      "metadata": {
        "colab": {
          "base_uri": "https://localhost:8080/"
        },
        "id": "EsBlv518rOQY",
        "outputId": "14f21758-fcaf-49cd-ae70-2cd6789bee41"
      },
      "execution_count": 31,
      "outputs": [
        {
          "output_type": "stream",
          "name": "stdout",
          "text": [
            "[1, 'a', 2]\n",
            "1\n",
            "2\n",
            "c\n"
          ]
        }
      ]
    },
    {
      "cell_type": "code",
      "source": [
        "lista = [\"p\", \"y\", \"t\", \"h\", \"o\", \"n\"]\n",
        "\n",
        "print(lista[2:])  # [\"t\", \"h\", \"o\", \"n\"]\n",
        "print(lista[:2])  # [\"p\", \"y\"]\n",
        "print(lista[1:3])  # [\"y\", \"t\"]\n",
        "print(lista[0:3:2])  # [\"p\", \"t\"]\n",
        "print(lista[::])  # [\"p\", \"y\", \"t\", \"h\", \"o\", \"n\"]\n",
        "print(lista[::-1])  # [\"n\", \"o\", \"h\", \"t\", \"y\", \"p\"]"
      ],
      "metadata": {
        "colab": {
          "base_uri": "https://localhost:8080/"
        },
        "id": "4NvQKBVqrT_V",
        "outputId": "5cb38058-e85a-4fb5-c66e-0b65f945be15"
      },
      "execution_count": 32,
      "outputs": [
        {
          "output_type": "stream",
          "name": "stdout",
          "text": [
            "['t', 'h', 'o', 'n']\n",
            "['p', 'y']\n",
            "['y', 't']\n",
            "['p', 't']\n",
            "['p', 'y', 't', 'h', 'o', 'n']\n",
            "['n', 'o', 'h', 't', 'y', 'p']\n"
          ]
        }
      ]
    },
    {
      "cell_type": "code",
      "source": [
        "carros = [\"gol\", \"celta\", \"palio\"]\n",
        "\n",
        "for carro in carros:\n",
        "    print(carro)\n",
        "\n",
        "\n",
        "for indice, carro in enumerate(carros):\n",
        "    print(f\"{indice}: {carro}\")"
      ],
      "metadata": {
        "colab": {
          "base_uri": "https://localhost:8080/"
        },
        "id": "N9UDW1BDrU0G",
        "outputId": "ab287cf5-67b8-4864-85dc-6c72f9c27d17"
      },
      "execution_count": 33,
      "outputs": [
        {
          "output_type": "stream",
          "name": "stdout",
          "text": [
            "gol\n",
            "celta\n",
            "palio\n",
            "0: gol\n",
            "1: celta\n",
            "2: palio\n"
          ]
        }
      ]
    },
    {
      "cell_type": "code",
      "source": [
        "# Filtrar lista\n",
        "numeros = [1, 30, 21, 2, 9, 65, 34]\n",
        "pares = [numero for numero in numeros if numero % 2 == 0]\n",
        "print(pares)\n",
        "\n",
        "# Modificar valores\n",
        "numeros = [1, 30, 21, 2, 9, 65, 34]\n",
        "quadrado = [numero**2 for numero in numeros]\n",
        "print(quadrado)"
      ],
      "metadata": {
        "colab": {
          "base_uri": "https://localhost:8080/"
        },
        "id": "U67OECSkrZQB",
        "outputId": "410534c1-ce01-46e4-b7ad-3ee180be6195"
      },
      "execution_count": 34,
      "outputs": [
        {
          "output_type": "stream",
          "name": "stdout",
          "text": [
            "[30, 2, 34]\n",
            "[1, 900, 441, 4, 81, 4225, 1156]\n"
          ]
        }
      ]
    },
    {
      "cell_type": "code",
      "source": [
        "lista = []\n",
        "\n",
        "lista.append(1)\n",
        "lista.append(\"Python\")\n",
        "lista.append([40, 30, 20])\n",
        "\n",
        "print(lista)  # [1, \"Python\", [40, 30, 20]]"
      ],
      "metadata": {
        "colab": {
          "base_uri": "https://localhost:8080/"
        },
        "id": "GYiwdDeDrbTO",
        "outputId": "f1a34d64-82f8-4de5-f02b-192e31b0d700"
      },
      "execution_count": 35,
      "outputs": [
        {
          "output_type": "stream",
          "name": "stdout",
          "text": [
            "[1, 'Python', [40, 30, 20]]\n"
          ]
        }
      ]
    },
    {
      "cell_type": "code",
      "source": [
        "lista = [1, \"Python\", [40, 30, 20]]\n",
        "\n",
        "print(lista)  # [1, \"Python\", [40, 30, 20]]\n",
        "\n",
        "lista.clear()\n",
        "\n",
        "print(lista)  # []"
      ],
      "metadata": {
        "colab": {
          "base_uri": "https://localhost:8080/"
        },
        "id": "gvTYemQYrdxy",
        "outputId": "d8ec7c3b-6056-4e03-e966-f4ad9bd8e2c0"
      },
      "execution_count": 36,
      "outputs": [
        {
          "output_type": "stream",
          "name": "stdout",
          "text": [
            "[1, 'Python', [40, 30, 20]]\n",
            "[]\n"
          ]
        }
      ]
    },
    {
      "cell_type": "code",
      "source": [
        "lista = [1, \"Python\", [40, 30, 20]]\n",
        "\n",
        "lista.copy()\n",
        "\n",
        "print(lista)  # [1, \"Python\", [40, 30, 20]]"
      ],
      "metadata": {
        "colab": {
          "base_uri": "https://localhost:8080/"
        },
        "id": "vzNSiSggrgE5",
        "outputId": "905755bc-6c6c-4b3a-c927-b741a84a7d24"
      },
      "execution_count": 37,
      "outputs": [
        {
          "output_type": "stream",
          "name": "stdout",
          "text": [
            "[1, 'Python', [40, 30, 20]]\n"
          ]
        }
      ]
    },
    {
      "cell_type": "code",
      "source": [
        "cores = [\"vermelho\", \"azul\", \"verde\", \"azul\"]\n",
        "\n",
        "print(cores.count(\"vermelho\"))  # 1\n",
        "print(cores.count(\"azul\"))  # 2\n",
        "print(cores.count(\"verde\"))  # 1"
      ],
      "metadata": {
        "colab": {
          "base_uri": "https://localhost:8080/"
        },
        "id": "DQqHP9C0rjSC",
        "outputId": "5e9facb2-f41a-473f-c371-9d19e34b9395"
      },
      "execution_count": 38,
      "outputs": [
        {
          "output_type": "stream",
          "name": "stdout",
          "text": [
            "1\n",
            "2\n",
            "1\n"
          ]
        }
      ]
    },
    {
      "cell_type": "code",
      "source": [
        "linguagens = [\"python\", \"js\", \"c\"]\n",
        "\n",
        "print(linguagens)  # [\"python\", \"js\", \"c\"]\n",
        "\n",
        "linguagens.extend([\"java\", \"csharp\"])\n",
        "\n",
        "print(linguagens)  # [\"python\", \"js\", \"c\", \"java\", \"csharp\"]"
      ],
      "metadata": {
        "colab": {
          "base_uri": "https://localhost:8080/"
        },
        "id": "V8h_GYjPrmyp",
        "outputId": "f62ad56e-5a32-4d3b-edd7-bc71b227268e"
      },
      "execution_count": 39,
      "outputs": [
        {
          "output_type": "stream",
          "name": "stdout",
          "text": [
            "['python', 'js', 'c']\n",
            "['python', 'js', 'c', 'java', 'csharp']\n"
          ]
        }
      ]
    },
    {
      "cell_type": "code",
      "source": [
        "linguagens = [\"python\", \"js\", \"c\"]\n",
        "\n",
        "print(linguagens)  # [\"python\", \"js\", \"c\"]\n",
        "\n",
        "linguagens.extend([\"java\", \"csharp\"])\n",
        "\n",
        "print(linguagens)  # [\"python\", \"js\", \"c\", \"java\", \"csharp\"]"
      ],
      "metadata": {
        "colab": {
          "base_uri": "https://localhost:8080/"
        },
        "id": "MM8dOa00rocX",
        "outputId": "28cad9f4-4753-4948-8392-6d805327f46e"
      },
      "execution_count": 40,
      "outputs": [
        {
          "output_type": "stream",
          "name": "stdout",
          "text": [
            "['python', 'js', 'c']\n",
            "['python', 'js', 'c', 'java', 'csharp']\n"
          ]
        }
      ]
    },
    {
      "cell_type": "code",
      "source": [
        "linguagens = [\"python\", \"js\", \"c\", \"java\", \"csharp\"]\n",
        "\n",
        "print(linguagens.pop())  # csharp\n",
        "print(linguagens.pop())  # java\n",
        "print(linguagens.pop())  # c\n",
        "print(linguagens.pop(0))  # python"
      ],
      "metadata": {
        "colab": {
          "base_uri": "https://localhost:8080/"
        },
        "id": "gdb8sO0Qrqp-",
        "outputId": "60a436b4-cddc-4b52-88fc-23fe760fe3b4"
      },
      "execution_count": 41,
      "outputs": [
        {
          "output_type": "stream",
          "name": "stdout",
          "text": [
            "csharp\n",
            "java\n",
            "c\n",
            "python\n"
          ]
        }
      ]
    },
    {
      "cell_type": "code",
      "source": [
        "linguagens = [\"python\", \"js\", \"c\", \"java\", \"csharp\"]\n",
        "\n",
        "linguagens.remove(\"c\")\n",
        "\n",
        "print(linguagens)  # [\"python\", \"js\", \"java\", \"csharp\"]"
      ],
      "metadata": {
        "colab": {
          "base_uri": "https://localhost:8080/"
        },
        "id": "JaYJC5hHrs2a",
        "outputId": "444a1ffd-0755-4f01-e9a2-6f35fc5e1184"
      },
      "execution_count": 42,
      "outputs": [
        {
          "output_type": "stream",
          "name": "stdout",
          "text": [
            "['python', 'js', 'java', 'csharp']\n"
          ]
        }
      ]
    },
    {
      "cell_type": "code",
      "source": [
        "linguagens = [\"python\", \"js\", \"c\", \"java\", \"csharp\"]\n",
        "\n",
        "linguagens.reverse()\n",
        "\n",
        "print(linguagens)  # [\"csharp\", \"java\", \"c\", \"js\", \"python\"]"
      ],
      "metadata": {
        "colab": {
          "base_uri": "https://localhost:8080/"
        },
        "id": "LbrR1yI3rwRW",
        "outputId": "d6f72fee-b2fd-4c6c-c9ae-1835b3ad1d5d"
      },
      "execution_count": 43,
      "outputs": [
        {
          "output_type": "stream",
          "name": "stdout",
          "text": [
            "['csharp', 'java', 'c', 'js', 'python']\n"
          ]
        }
      ]
    },
    {
      "cell_type": "code",
      "source": [
        "linguagens = [\"python\", \"js\", \"c\", \"java\", \"csharp\"]\n",
        "linguagens.sort()  # [\"c\", \"csharp\", \"java\", \"js\", \"python\"]\n",
        "print(linguagens)\n",
        "\n",
        "linguagens = [\"python\", \"js\", \"c\", \"java\", \"csharp\"]\n",
        "linguagens.sort(reverse=True)  # [\"python\", \"js\", \"java\", \"csharp\", \"c\"]\n",
        "print(linguagens)\n",
        "\n",
        "linguagens = [\"python\", \"js\", \"c\", \"java\", \"csharp\"]\n",
        "linguagens.sort(key=lambda x: len(x))  # [\"c\", \"js\", \"java\", \"python\", \"csharp\"]\n",
        "print(linguagens)\n",
        "\n",
        "linguagens = [\"python\", \"js\", \"c\", \"java\", \"csharp\"]\n",
        "linguagens.sort(key=lambda x: len(x), reverse=True)  # [\"python\", \"csharp\", \"java\", \"js\", \"c\"]\n",
        "print(linguagens)"
      ],
      "metadata": {
        "colab": {
          "base_uri": "https://localhost:8080/"
        },
        "id": "yca0kOikrxAf",
        "outputId": "4a7da8b9-63d5-46f4-c4cb-265d55a8227d"
      },
      "execution_count": 44,
      "outputs": [
        {
          "output_type": "stream",
          "name": "stdout",
          "text": [
            "['c', 'csharp', 'java', 'js', 'python']\n",
            "['python', 'js', 'java', 'csharp', 'c']\n",
            "['c', 'js', 'java', 'python', 'csharp']\n",
            "['python', 'csharp', 'java', 'js', 'c']\n"
          ]
        }
      ]
    },
    {
      "cell_type": "code",
      "source": [
        "linguagens = [\"python\", \"js\", \"c\", \"java\", \"csharp\"]\n",
        "\n",
        "print(len(linguagens))  # 5"
      ],
      "metadata": {
        "colab": {
          "base_uri": "https://localhost:8080/"
        },
        "id": "f7K8Bg2Yr4qn",
        "outputId": "4fa93084-525e-4394-c9e3-e560cd2e6b2b"
      },
      "execution_count": 45,
      "outputs": [
        {
          "output_type": "stream",
          "name": "stdout",
          "text": [
            "5\n"
          ]
        }
      ]
    },
    {
      "cell_type": "code",
      "source": [
        "linguagens = [\"python\", \"js\", \"c\", \"java\", \"csharp\"]\n",
        "\n",
        "print(sorted(linguagens, key=lambda x: len(x)))  # [\"c\", \"js\", \"java\", \"python\", \"csharp\"]\n",
        "print(sorted(linguagens, key=lambda x: len(x), reverse=True))  # [\"python\", \"csharp\", \"java\", \"js\", \"c\"]"
      ],
      "metadata": {
        "colab": {
          "base_uri": "https://localhost:8080/"
        },
        "id": "l9XZ25yGr7E0",
        "outputId": "4e9f3468-5558-47f0-da06-cfabc26a006d"
      },
      "execution_count": 46,
      "outputs": [
        {
          "output_type": "stream",
          "name": "stdout",
          "text": [
            "['c', 'js', 'java', 'python', 'csharp']\n",
            "['python', 'csharp', 'java', 'js', 'c']\n"
          ]
        }
      ]
    },
    {
      "cell_type": "markdown",
      "source": [
        "### **Tuplas**"
      ],
      "metadata": {
        "id": "Fzazxx-O17UE"
      }
    },
    {
      "cell_type": "code",
      "source": [
        "frutas = (\n",
        "    \"laranja\",\n",
        "    \"pera\",\n",
        "    \"uva\",\n",
        ")\n",
        "print(frutas)\n",
        "\n",
        "letras = tuple(\"python\")\n",
        "print(letras)\n",
        "\n",
        "numeros = tuple([1, 2, 3, 4])\n",
        "print(numeros)\n",
        "\n",
        "pais = (\"Brasil\",)\n",
        "print(pais)"
      ],
      "metadata": {
        "colab": {
          "base_uri": "https://localhost:8080/"
        },
        "id": "tWSeuIeu2AKv",
        "outputId": "9cd99aaa-a79b-4c60-db9b-137682131984"
      },
      "execution_count": 57,
      "outputs": [
        {
          "output_type": "stream",
          "name": "stdout",
          "text": [
            "('laranja', 'pera', 'uva')\n",
            "('p', 'y', 't', 'h', 'o', 'n')\n",
            "(1, 2, 3, 4)\n",
            "('Brasil',)\n"
          ]
        }
      ]
    },
    {
      "cell_type": "code",
      "source": [
        "frutas = (\"maçã\", \"laranja\", \"uva\", \"pera\",)\n",
        "\n",
        "print(frutas[0])  # maçã\n",
        "print(frutas[2])  # uva"
      ],
      "metadata": {
        "colab": {
          "base_uri": "https://localhost:8080/"
        },
        "id": "rcZBnCnE42tB",
        "outputId": "0f61821d-5917-4c06-9b81-f63332f9f178"
      },
      "execution_count": 58,
      "outputs": [
        {
          "output_type": "stream",
          "name": "stdout",
          "text": [
            "maçã\n",
            "uva\n"
          ]
        }
      ]
    },
    {
      "cell_type": "code",
      "source": [
        "frutas = (\n",
        "    \"maçã\",\n",
        "    \"laranja\",\n",
        "    \"uva\",\n",
        "    \"pera\",\n",
        ")\n",
        "\n",
        "print(frutas[-1])  # pera\n",
        "print(frutas[-3])  # laranja"
      ],
      "metadata": {
        "colab": {
          "base_uri": "https://localhost:8080/"
        },
        "id": "rhC-MNFQAc8F",
        "outputId": "e6bf4ecf-4d66-4ed3-8866-13440082cc55"
      },
      "execution_count": 59,
      "outputs": [
        {
          "output_type": "stream",
          "name": "stdout",
          "text": [
            "pera\n",
            "laranja\n"
          ]
        }
      ]
    },
    {
      "cell_type": "code",
      "source": [
        "matriz = (\n",
        "    (1, \"a\", 2),\n",
        "    (\"b\", 3, 4),\n",
        "    (6, 5, \"c\"),\n",
        ")\n",
        "\n",
        "print(matriz[0])  # (1, \"a\", 2)\n",
        "print(matriz[0][0])  # 1\n",
        "print(matriz[0][-1])  # 2\n",
        "print(matriz[-1][-1])  # \"c\""
      ],
      "metadata": {
        "colab": {
          "base_uri": "https://localhost:8080/"
        },
        "id": "P6HAORAAAeqp",
        "outputId": "40d115a1-f5b0-4287-b2b0-a4640c570017"
      },
      "execution_count": 60,
      "outputs": [
        {
          "output_type": "stream",
          "name": "stdout",
          "text": [
            "(1, 'a', 2)\n",
            "1\n",
            "2\n",
            "c\n"
          ]
        }
      ]
    },
    {
      "cell_type": "code",
      "source": [
        "tupla = (\"p\", \"y\", \"t\", \"h\", \"o\", \"n\",)\n",
        "\n",
        "print(tupla[2:])  # (\"t\", \"h\", \"o\", \"n\")\n",
        "print(tupla[:2])  # (\"p\", \"y\")\n",
        "print(tupla[1:3])  # (\"y\", \"t\")\n",
        "print(tupla[0:3:2])  # (\"p\", \"t\")\n",
        "print(tupla[::])  # (\"p\", \"y\", \"t\", \"h\", \"o\", \"n\")\n",
        "print(tupla[::-1])  # (\"n\", \"o\", \"h\", \"t\", \"y\", \"p\")"
      ],
      "metadata": {
        "colab": {
          "base_uri": "https://localhost:8080/"
        },
        "id": "EM1QK8f0AgcU",
        "outputId": "b7cfa3da-597b-4f74-a721-6dcf0308577c"
      },
      "execution_count": 61,
      "outputs": [
        {
          "output_type": "stream",
          "name": "stdout",
          "text": [
            "('t', 'h', 'o', 'n')\n",
            "('p', 'y')\n",
            "('y', 't')\n",
            "('p', 't')\n",
            "('p', 'y', 't', 'h', 'o', 'n')\n",
            "('n', 'o', 'h', 't', 'y', 'p')\n"
          ]
        }
      ]
    },
    {
      "cell_type": "code",
      "source": [
        "carros = (\n",
        "    \"gol\",\n",
        "    \"celta\",\n",
        "    \"palio\",\n",
        ")\n",
        "\n",
        "for carro in carros:\n",
        "    print(carro)\n",
        "\n",
        "\n",
        "for indice, carro in enumerate(carros):\n",
        "    print(f\"{indice}: {carro}\")"
      ],
      "metadata": {
        "colab": {
          "base_uri": "https://localhost:8080/"
        },
        "id": "0ry72ImgAiTg",
        "outputId": "64b7e1b6-33ac-4c73-f514-ce017a48d965"
      },
      "execution_count": 62,
      "outputs": [
        {
          "output_type": "stream",
          "name": "stdout",
          "text": [
            "gol\n",
            "celta\n",
            "palio\n",
            "0: gol\n",
            "1: celta\n",
            "2: palio\n"
          ]
        }
      ]
    },
    {
      "cell_type": "code",
      "source": [
        "cores = (\n",
        "    \"vermelho\",\n",
        "    \"azul\",\n",
        "    \"verde\",\n",
        "    \"azul\",\n",
        ")\n",
        "\n",
        "print(cores.count(\"vermelho\"))  # 1\n",
        "print(cores.count(\"azul\"))  # 2\n",
        "print(cores.count(\"verde\"))  # 1"
      ],
      "metadata": {
        "colab": {
          "base_uri": "https://localhost:8080/"
        },
        "id": "r9VuqXpfAj4n",
        "outputId": "20237f09-c443-45f4-c606-7c1d23b541f0"
      },
      "execution_count": 63,
      "outputs": [
        {
          "output_type": "stream",
          "name": "stdout",
          "text": [
            "1\n",
            "2\n",
            "1\n"
          ]
        }
      ]
    },
    {
      "cell_type": "code",
      "source": [
        "linguagens = (\"python\", \"js\", \"c\", \"java\", \"csharp\",)\n",
        "\n",
        "print(linguagens.index(\"java\"))  # 3\n",
        "print(linguagens.index(\"python\"))  # 0"
      ],
      "metadata": {
        "colab": {
          "base_uri": "https://localhost:8080/"
        },
        "id": "LZOS5Sr-Amlw",
        "outputId": "3749fa61-5ea1-46b1-859e-6e46f9b580ae"
      },
      "execution_count": 64,
      "outputs": [
        {
          "output_type": "stream",
          "name": "stdout",
          "text": [
            "3\n",
            "0\n"
          ]
        }
      ]
    },
    {
      "cell_type": "code",
      "source": [
        "linguagens = (\n",
        "    \"python\",\n",
        "    \"js\",\n",
        "    \"c\",\n",
        "    \"java\",\n",
        "    \"csharp\",\n",
        ")\n",
        "\n",
        "print(len(linguagens))  # 5"
      ],
      "metadata": {
        "colab": {
          "base_uri": "https://localhost:8080/"
        },
        "id": "ttYTulVvAoIp",
        "outputId": "4179266b-261f-4981-9dba-ec1ae1e43170"
      },
      "execution_count": 65,
      "outputs": [
        {
          "output_type": "stream",
          "name": "stdout",
          "text": [
            "5\n"
          ]
        }
      ]
    },
    {
      "cell_type": "markdown",
      "source": [
        "### **Conjuntos**"
      ],
      "metadata": {
        "id": "zcVLq8HdCuLm"
      }
    },
    {
      "cell_type": "code",
      "source": [
        "numeros = set([1, 2, 3, 1, 3, 4])\n",
        "print(numeros)  # {1, 2, 3, 4}\n",
        "\n",
        "letras = set(\"abacaxi\")\n",
        "print(letras)  # {\"b\", \"a\", \"c\", \"x\", \"i\"}\n",
        "\n",
        "carros = set((\"palio\", \"gol\", \"celta\", \"palio\"))\n",
        "print(carros)  # {\"gol\", \"celta\", \"palio\"}"
      ],
      "metadata": {
        "colab": {
          "base_uri": "https://localhost:8080/"
        },
        "id": "M9sxCl0PC9Rh",
        "outputId": "57bd2be7-5553-4f59-e006-738af361d274"
      },
      "execution_count": 67,
      "outputs": [
        {
          "output_type": "stream",
          "name": "stdout",
          "text": [
            "{1, 2, 3, 4}\n",
            "{'b', 'c', 'a', 'x', 'i'}\n",
            "{'gol', 'celta', 'palio'}\n"
          ]
        }
      ]
    },
    {
      "cell_type": "code",
      "source": [
        "numeros = {1, 2, 3, 2}\n",
        "\n",
        "numeros = list(numeros)\n",
        "\n",
        "print(numeros[0])"
      ],
      "metadata": {
        "colab": {
          "base_uri": "https://localhost:8080/"
        },
        "id": "jRZXYVlpDB2E",
        "outputId": "5effb741-22ba-4901-e927-545fbe7057cc"
      },
      "execution_count": 68,
      "outputs": [
        {
          "output_type": "stream",
          "name": "stdout",
          "text": [
            "1\n"
          ]
        }
      ]
    },
    {
      "cell_type": "code",
      "source": [
        "carros = {\"gol\", \"celta\", \"palio\"}\n",
        "\n",
        "for carro in carros:\n",
        "    print(carro)\n",
        "\n",
        "for indice, carro in enumerate(carros):\n",
        "    print(f\"{indice}: {carro}\")"
      ],
      "metadata": {
        "colab": {
          "base_uri": "https://localhost:8080/"
        },
        "id": "PVh3bQXODDoR",
        "outputId": "77b4aec5-33b7-4c11-e35d-73cd16fb3890"
      },
      "execution_count": 69,
      "outputs": [
        {
          "output_type": "stream",
          "name": "stdout",
          "text": [
            "gol\n",
            "palio\n",
            "celta\n",
            "0: gol\n",
            "1: palio\n",
            "2: celta\n"
          ]
        }
      ]
    },
    {
      "cell_type": "code",
      "source": [
        "conjunto_a = {1, 2}\n",
        "conjunto_b = {3, 4}\n",
        "\n",
        "resultado = conjunto_a.union(conjunto_b)\n",
        "print(resultado)"
      ],
      "metadata": {
        "colab": {
          "base_uri": "https://localhost:8080/"
        },
        "id": "WwKaSRKWDFa-",
        "outputId": "2705aa8b-ee99-4290-b41e-fce748c7e963"
      },
      "execution_count": 70,
      "outputs": [
        {
          "output_type": "stream",
          "name": "stdout",
          "text": [
            "{1, 2, 3, 4}\n"
          ]
        }
      ]
    },
    {
      "cell_type": "code",
      "source": [
        "conjunto_a = {1, 2, 3}\n",
        "conjunto_b = {2, 3, 4}\n",
        "\n",
        "resultado = conjunto_a.intersection(conjunto_b)\n",
        "print(resultado)"
      ],
      "metadata": {
        "colab": {
          "base_uri": "https://localhost:8080/"
        },
        "id": "bUFKsYgSDHvO",
        "outputId": "ac0d3365-5ea8-4b49-ce8e-a6314971557f"
      },
      "execution_count": 71,
      "outputs": [
        {
          "output_type": "stream",
          "name": "stdout",
          "text": [
            "{2, 3}\n"
          ]
        }
      ]
    },
    {
      "cell_type": "code",
      "source": [
        "conjunto_a = {1, 2, 3}\n",
        "conjunto_b = {2, 3, 4}\n",
        "\n",
        "resultado = conjunto_a.difference(conjunto_b)\n",
        "print(resultado)\n",
        "\n",
        "resultado = conjunto_b.difference(conjunto_a)\n",
        "print(resultado)"
      ],
      "metadata": {
        "colab": {
          "base_uri": "https://localhost:8080/"
        },
        "id": "d-RA7d8oDJQb",
        "outputId": "571dc6c6-69f0-4ce9-c76a-1f5c9c7f8639"
      },
      "execution_count": 72,
      "outputs": [
        {
          "output_type": "stream",
          "name": "stdout",
          "text": [
            "{1}\n",
            "{4}\n"
          ]
        }
      ]
    },
    {
      "cell_type": "code",
      "source": [
        "conjunto_a = {1, 2, 3}\n",
        "conjunto_b = {2, 3, 4}\n",
        "\n",
        "resultado = conjunto_a.symmetric_difference(conjunto_b)\n",
        "print(resultado)"
      ],
      "metadata": {
        "colab": {
          "base_uri": "https://localhost:8080/"
        },
        "id": "Lojm_CN5DLWg",
        "outputId": "aeb2c107-7236-47b4-d4b7-559646d50492"
      },
      "execution_count": 73,
      "outputs": [
        {
          "output_type": "stream",
          "name": "stdout",
          "text": [
            "{1, 4}\n"
          ]
        }
      ]
    },
    {
      "cell_type": "code",
      "source": [
        "conjunto_a = {1, 2, 3}\n",
        "conjunto_b = {4, 1, 2, 5, 6, 3}\n",
        "\n",
        "resultado = conjunto_a.issubset(conjunto_b)  # True\n",
        "print(resultado)\n",
        "\n",
        "resultado = conjunto_b.issubset(conjunto_a)  # False\n",
        "print(resultado)"
      ],
      "metadata": {
        "colab": {
          "base_uri": "https://localhost:8080/"
        },
        "id": "1DQSmaeJDNpq",
        "outputId": "32e88895-6333-48a6-99c1-2df29b91b4d1"
      },
      "execution_count": 74,
      "outputs": [
        {
          "output_type": "stream",
          "name": "stdout",
          "text": [
            "True\n",
            "False\n"
          ]
        }
      ]
    },
    {
      "cell_type": "code",
      "source": [
        "conjunto_a = {1, 2, 3}\n",
        "conjunto_b = {4, 1, 2, 5, 6, 3}\n",
        "\n",
        "resultado = conjunto_a.issuperset(conjunto_b)  # False\n",
        "print(resultado)\n",
        "\n",
        "resultado = conjunto_b.issuperset(conjunto_a)  # True\n",
        "print(resultado)"
      ],
      "metadata": {
        "colab": {
          "base_uri": "https://localhost:8080/"
        },
        "id": "j4tXV8loDRTk",
        "outputId": "1bd96b67-01bd-46d0-b548-ad4c648fc4cf"
      },
      "execution_count": 75,
      "outputs": [
        {
          "output_type": "stream",
          "name": "stdout",
          "text": [
            "False\n",
            "True\n"
          ]
        }
      ]
    },
    {
      "cell_type": "code",
      "source": [
        "conjunto_a = {1, 2, 3, 4, 5}\n",
        "conjunto_b = {6, 7, 8, 9}\n",
        "conjunto_c = {1, 0}\n",
        "\n",
        "resultado = conjunto_a.isdisjoint(conjunto_b)  # True\n",
        "print(resultado)\n",
        "\n",
        "resultado = conjunto_a.isdisjoint(conjunto_c)  # False\n",
        "print(resultado)"
      ],
      "metadata": {
        "colab": {
          "base_uri": "https://localhost:8080/"
        },
        "id": "-eNdEXfRDUGW",
        "outputId": "ef59700a-7798-47f7-99b5-f8669ba258ac"
      },
      "execution_count": 76,
      "outputs": [
        {
          "output_type": "stream",
          "name": "stdout",
          "text": [
            "True\n",
            "False\n"
          ]
        }
      ]
    },
    {
      "cell_type": "code",
      "source": [
        "conjunto_a = {1, 2, 3, 4, 5}\n",
        "conjunto_b = {6, 7, 8, 9}\n",
        "conjunto_c = {1, 0}\n",
        "\n",
        "resultado = conjunto_a.isdisjoint(conjunto_b)  # True\n",
        "print(resultado)\n",
        "\n",
        "resultado = conjunto_a.isdisjoint(conjunto_c)  # False\n",
        "print(resultado)"
      ],
      "metadata": {
        "colab": {
          "base_uri": "https://localhost:8080/"
        },
        "id": "PzJv0DoMDV1B",
        "outputId": "5019b2cc-ebbd-4f9f-bfab-4664449510d2"
      },
      "execution_count": 77,
      "outputs": [
        {
          "output_type": "stream",
          "name": "stdout",
          "text": [
            "True\n",
            "False\n"
          ]
        }
      ]
    },
    {
      "cell_type": "code",
      "source": [
        "sorteio = {1, 23}\n",
        "\n",
        "print(sorteio)  # {1,23}\n",
        "\n",
        "sorteio.clear()\n",
        "\n",
        "print(sorteio)  # {}"
      ],
      "metadata": {
        "colab": {
          "base_uri": "https://localhost:8080/"
        },
        "id": "bLhe2ejJDYJV",
        "outputId": "d25e6533-61e1-42cf-deb9-9863ba4f96e5"
      },
      "execution_count": 78,
      "outputs": [
        {
          "output_type": "stream",
          "name": "stdout",
          "text": [
            "{1, 23}\n",
            "set()\n"
          ]
        }
      ]
    },
    {
      "cell_type": "code",
      "source": [
        "sorteio = {1, 23}\n",
        "\n",
        "print(sorteio)  # {1, 23}\n",
        "\n",
        "sorteio.copy()\n",
        "\n",
        "print(sorteio)  # {1, 23}"
      ],
      "metadata": {
        "colab": {
          "base_uri": "https://localhost:8080/"
        },
        "id": "It34O7mxDa1U",
        "outputId": "dfd5c731-df41-4abd-8e2a-a419a4d34ed0"
      },
      "execution_count": 79,
      "outputs": [
        {
          "output_type": "stream",
          "name": "stdout",
          "text": [
            "{1, 23}\n",
            "{1, 23}\n"
          ]
        }
      ]
    },
    {
      "cell_type": "code",
      "source": [
        "numeros = {1, 2, 3, 1, 2, 4, 5, 5, 6, 7, 8, 9, 0}\n",
        "\n",
        "print(numeros)  # {1, 2, 3, 4, 5, 6, 7, 8, 9, 0}\n",
        "\n",
        "numeros.discard(1)\n",
        "numeros.discard(45)\n",
        "\n",
        "print(numeros)  # {2, 3, 4, 5, 6, 7, 8, 9, 0}"
      ],
      "metadata": {
        "colab": {
          "base_uri": "https://localhost:8080/"
        },
        "id": "Qhql3KFuDczf",
        "outputId": "bd1da6b8-6187-40d9-d9ee-2d4d360f8411"
      },
      "execution_count": 80,
      "outputs": [
        {
          "output_type": "stream",
          "name": "stdout",
          "text": [
            "{0, 1, 2, 3, 4, 5, 6, 7, 8, 9}\n",
            "{0, 2, 3, 4, 5, 6, 7, 8, 9}\n"
          ]
        }
      ]
    },
    {
      "cell_type": "code",
      "source": [
        "numeros = {1, 2, 3, 1, 2, 4, 5, 5, 6, 7, 8, 9, 0}\n",
        "\n",
        "print(numeros)  # {0, 1, 2, 3, 4, 5, 6, 7, 8, 9}\n",
        "print(numeros.pop())  # 0\n",
        "print(numeros.pop())  # 1\n",
        "print(numeros)  # {2, 3, 4, 5, 6, 7, 8, 9}"
      ],
      "metadata": {
        "colab": {
          "base_uri": "https://localhost:8080/"
        },
        "id": "lBkcFoAIDdoT",
        "outputId": "5cc9213a-b89d-46a6-b1a0-140f56326a63"
      },
      "execution_count": 81,
      "outputs": [
        {
          "output_type": "stream",
          "name": "stdout",
          "text": [
            "{0, 1, 2, 3, 4, 5, 6, 7, 8, 9}\n",
            "0\n",
            "1\n",
            "{2, 3, 4, 5, 6, 7, 8, 9}\n"
          ]
        }
      ]
    },
    {
      "cell_type": "code",
      "source": [
        "numeros = {1, 2, 3, 1, 2, 4, 5, 5, 6, 7, 8, 9, 0}\n",
        "\n",
        "print(numeros)  # {0, 1, 2, 3, 4, 5, 6, 7, 8, 9}\n",
        "print(numeros.remove(0))  # 0\n",
        "print(numeros)  # {1, 2, 3, 4, 5, 6, 7, 8, 9}"
      ],
      "metadata": {
        "colab": {
          "base_uri": "https://localhost:8080/"
        },
        "id": "52V-rAo5DfmP",
        "outputId": "2dda8d30-c6e1-4005-9693-cd0192718ba3"
      },
      "execution_count": 82,
      "outputs": [
        {
          "output_type": "stream",
          "name": "stdout",
          "text": [
            "{0, 1, 2, 3, 4, 5, 6, 7, 8, 9}\n",
            "None\n",
            "{1, 2, 3, 4, 5, 6, 7, 8, 9}\n"
          ]
        }
      ]
    },
    {
      "cell_type": "code",
      "source": [
        "numeros = {1, 2, 3, 1, 2, 4, 5, 5, 6, 7, 8, 9, 0}\n",
        "\n",
        "print(len(numeros))  # 10"
      ],
      "metadata": {
        "colab": {
          "base_uri": "https://localhost:8080/"
        },
        "id": "BWuwyMXDDizk",
        "outputId": "d41f3078-8882-4bc9-a8c6-f3cda987e780"
      },
      "execution_count": 83,
      "outputs": [
        {
          "output_type": "stream",
          "name": "stdout",
          "text": [
            "10\n"
          ]
        }
      ]
    },
    {
      "cell_type": "code",
      "source": [
        "numeros = {1, 2, 3, 1, 2, 4, 5, 5, 6, 7, 8, 9, 0}\n",
        "\n",
        "print(1 in numeros)  # True\n",
        "print(10 in numeros)  # False"
      ],
      "metadata": {
        "colab": {
          "base_uri": "https://localhost:8080/"
        },
        "id": "PC6NaRVUDlnb",
        "outputId": "d6cc59a0-528e-41d2-943e-a94c81e63cac"
      },
      "execution_count": 84,
      "outputs": [
        {
          "output_type": "stream",
          "name": "stdout",
          "text": [
            "True\n",
            "False\n"
          ]
        }
      ]
    },
    {
      "cell_type": "markdown",
      "source": [
        "### **Dicionários**\n"
      ],
      "metadata": {
        "id": "PNXXuX-Ac8lx"
      }
    },
    {
      "cell_type": "code",
      "source": [
        "pessoa = {\"nome\": \"Guilherme\", \"idade\": 28}\n",
        "print(pessoa)\n",
        "\n",
        "pessoa = dict(nome=\"Guilherme\", idade=28)\n",
        "print(pessoa)\n",
        "\n",
        "pessoa[\"telefone\"] = \"3333-1234\"  # {\"nome\": \"Guilherme\", \"idade\": 28, \"telefone\": \"3333-1234\"}\n",
        "print(pessoa)"
      ],
      "metadata": {
        "colab": {
          "base_uri": "https://localhost:8080/"
        },
        "id": "M26GMSd8dAR0",
        "outputId": "3f4af161-0263-49ea-cc03-3bc30b793f7e"
      },
      "execution_count": 1,
      "outputs": [
        {
          "output_type": "stream",
          "name": "stdout",
          "text": [
            "{'nome': 'Guilherme', 'idade': 28}\n",
            "{'nome': 'Guilherme', 'idade': 28}\n",
            "{'nome': 'Guilherme', 'idade': 28, 'telefone': '3333-1234'}\n"
          ]
        }
      ]
    },
    {
      "cell_type": "code",
      "source": [
        "dados = {\"nome\": \"Guilherme\", \"idade\": 28, \"telefone\": \"3333-1234\"}\n",
        "\n",
        "print(dados[\"nome\"])  # \"Guilherme\"\n",
        "print(dados[\"idade\"])  # 28\n",
        "print(dados[\"telefone\"])  # \"3333-1234\"\n",
        "\n",
        "dados[\"nome\"] = \"Maria\"\n",
        "dados[\"idade\"] = 18\n",
        "dados[\"telefone\"] = \"9988-1781\"\n",
        "\n",
        "print(dados)  # {\"nome\": \"Maria\", \"idade\": 18, \"telefone\": \"9988-1781\"}"
      ],
      "metadata": {
        "colab": {
          "base_uri": "https://localhost:8080/"
        },
        "id": "nuCwQAOZdJtD",
        "outputId": "8a8adc80-4826-41fe-a4e3-7c607a707777"
      },
      "execution_count": 2,
      "outputs": [
        {
          "output_type": "stream",
          "name": "stdout",
          "text": [
            "Guilherme\n",
            "28\n",
            "3333-1234\n",
            "{'nome': 'Maria', 'idade': 18, 'telefone': '9988-1781'}\n"
          ]
        }
      ]
    },
    {
      "cell_type": "code",
      "source": [
        "contatos = {\n",
        "    \"guilherme@gmail.com\": {\"nome\": \"Guilherme\", \"telefone\": \"3333-2221\"},\n",
        "    \"giovanna@gmail.com\": {\"nome\": \"Giovanna\", \"telefone\": \"3443-2121\"},\n",
        "    \"chappie@gmail.com\": {\"nome\": \"Chappie\", \"telefone\": \"3344-9871\"},\n",
        "    \"melaine@gmail.com\": {\"nome\": \"Melaine\", \"telefone\": \"3333-7766\"},\n",
        "}\n",
        "\n",
        "telefone = contatos[\"giovanna@gmail.com\"][\"telefone\"]  # \"3443-2121\"\n",
        "print(telefone)"
      ],
      "metadata": {
        "colab": {
          "base_uri": "https://localhost:8080/"
        },
        "id": "KBjc57DTdLiz",
        "outputId": "daff1170-bdf3-4556-a36b-b11fdaaf8e6e"
      },
      "execution_count": 3,
      "outputs": [
        {
          "output_type": "stream",
          "name": "stdout",
          "text": [
            "3443-2121\n"
          ]
        }
      ]
    },
    {
      "cell_type": "code",
      "source": [
        "contatos = {\n",
        "    \"guilherme@gmail.com\": {\"nome\": \"Guilherme\", \"telefone\": \"3333-2221\"},\n",
        "    \"giovanna@gmail.com\": {\"nome\": \"Giovanna\", \"telefone\": \"3443-2121\"},\n",
        "    \"chappie@gmail.com\": {\"nome\": \"Chappie\", \"telefone\": \"3344-9871\"},\n",
        "    \"melaine@gmail.com\": {\"nome\": \"Melaine\", \"telefone\": \"3333-7766\"},\n",
        "}\n",
        "\n",
        "for chave in contatos:\n",
        "    print(chave, contatos[chave])\n",
        "\n",
        "print(\"=\" * 100)\n",
        "\n",
        "for chave, valor in contatos.items():\n",
        "    print(chave, valor)"
      ],
      "metadata": {
        "id": "SXT5ha0jdOG8"
      },
      "execution_count": null,
      "outputs": []
    },
    {
      "cell_type": "code",
      "source": [
        "contatos = {\n",
        "    \"guilherme@gmail.com\": {\"nome\": \"Guilherme\", \"telefone\": \"3333-2221\"},\n",
        "    \"giovanna@gmail.com\": {\"nome\": \"Giovanna\", \"telefone\": \"3443-2121\"},\n",
        "    \"chappie@gmail.com\": {\"nome\": \"Chappie\", \"telefone\": \"3344-9871\"},\n",
        "    \"melaine@gmail.com\": {\"nome\": \"Melaine\", \"telefone\": \"3333-7766\"},\n",
        "}\n",
        "\n",
        "contatos.clear()\n",
        "print(contatos)  # {}"
      ],
      "metadata": {
        "id": "n18PHyRSdQy4"
      },
      "execution_count": null,
      "outputs": []
    },
    {
      "cell_type": "code",
      "source": [
        "contatos = {\"guilherme@gmail.com\": {\"nome\": \"Guilherme\", \"telefone\": \"3333-2221\"}}\n",
        "\n",
        "copia = contatos.copy()\n",
        "copia[\"guilherme@gmail.com\"] = {\"nome\": \"Gui\"}\n",
        "\n",
        "print(contatos[\"guilherme@gmail.com\"])  # {\"nome\": \"Guilherme\", \"telefone\": \"3333-2221\"}\n",
        "\n",
        "print(copia[\"guilherme@gmail.com\"])  # {\"nome\": \"Gui\"}"
      ],
      "metadata": {
        "id": "xcKdR19zdSqD"
      },
      "execution_count": null,
      "outputs": []
    },
    {
      "cell_type": "code",
      "source": [
        "resultado = dict.fromkeys([\"nome\", \"telefone\"])  # {\"nome\": None, \"telefone\": None}\n",
        "print(resultado)\n",
        "\n",
        "resultado = dict.fromkeys([\"nome\", \"telefone\"], \"vazio\")  # {\"nome\": \"vazio\", \"telefone\": \"vazio\"}\n",
        "print(resultado)"
      ],
      "metadata": {
        "id": "QvzWtxDRdUQZ"
      },
      "execution_count": null,
      "outputs": []
    },
    {
      "cell_type": "code",
      "source": [
        "contatos = {\"guilherme@gmail.com\": {\"nome\": \"Guilherme\", \"telefone\": \"3333-2221\"}}\n",
        "\n",
        "# contatos[\"chave\"]  # KeyError\n",
        "\n",
        "resultado = contatos.get(\"chave\")  # None\n",
        "print(resultado)\n",
        "\n",
        "resultado = contatos.get(\"chave\", {})  # {}\n",
        "print(resultado)\n",
        "\n",
        "resultado = contatos.get(\n",
        "    \"guilherme@gmail.com\", {}\n",
        ")  # {\"guilherme@gmail.com\": {\"nome\": \"Guilherme\", \"telefone\": \"3333-2221\"}\n",
        "print(resultado)"
      ],
      "metadata": {
        "id": "lXomGCIldWhP"
      },
      "execution_count": null,
      "outputs": []
    },
    {
      "cell_type": "code",
      "source": [
        "contatos = {\"guilherme@gmail.com\": {\"nome\": \"Guilherme\", \"telefone\": \"3333-2221\"}}\n",
        "\n",
        "resultado = contatos.items()  # dict_items([('guilherme@gmail.com', {'nome': 'Guilherme', 'telefone': '3333-2221'})])\n",
        "print(resultado)"
      ],
      "metadata": {
        "id": "QOe7Vl4sdYF6"
      },
      "execution_count": null,
      "outputs": []
    },
    {
      "cell_type": "code",
      "source": [
        "contatos = {\"guilherme@gmail.com\": {\"nome\": \"Guilherme\", \"telefone\": \"3333-2221\"}}\n",
        "\n",
        "resultado = contatos.keys()  # dict_keys(['guilherme@gmail.com'])\n",
        "print(resultado)"
      ],
      "metadata": {
        "id": "Nl0qEc7FdZjA"
      },
      "execution_count": null,
      "outputs": []
    },
    {
      "cell_type": "code",
      "source": [
        "contatos = {\"guilherme@gmail.com\": {\"nome\": \"Guilherme\", \"telefone\": \"3333-2221\"}}\n",
        "\n",
        "resultado = contatos.pop(\"guilherme@gmail.com\")  # {'nome': 'Guilherme', 'telefone': '3333-2221'}\n",
        "print(resultado)\n",
        "\n",
        "resultado = contatos.pop(\"guilherme@gmail.com\", {})  # {}\n",
        "print(resultado)"
      ],
      "metadata": {
        "id": "sEWSa4YidbEP"
      },
      "execution_count": null,
      "outputs": []
    },
    {
      "cell_type": "code",
      "source": [
        "contatos = {\"guilherme@gmail.com\": {\"nome\": \"Guilherme\", \"telefone\": \"3333-2221\"}}\n",
        "\n",
        "resultado = contatos.popitem()  # ('guilherme@gmail.com', {'nome': 'Guilherme', 'telefone': '3333-2221'})\n",
        "print(resultado)\n",
        "\n",
        "# contatos.popitem()  # KeyError"
      ],
      "metadata": {
        "id": "ujf1FDNVdcpe"
      },
      "execution_count": null,
      "outputs": []
    },
    {
      "cell_type": "code",
      "source": [
        "contato = {\"nome\": \"Guilherme\", \"telefone\": \"3333-2221\"}\n",
        "\n",
        "contato.setdefault(\"nome\", \"Giovanna\")  # \"Guilherme\"\n",
        "print(contato)  # {'nome': 'Guilherme', 'telefone': '3333-2221'}\n",
        "\n",
        "contato.setdefault(\"idade\", 28)  # 28\n",
        "print(contato)  # {'nome': 'Guilherme', 'telefone': '3333-2221', 'idade': 28}"
      ],
      "metadata": {
        "id": "fptbOFiRdeBl"
      },
      "execution_count": null,
      "outputs": []
    },
    {
      "cell_type": "code",
      "source": [
        "contatos = {\"guilherme@gmail.com\": {\"nome\": \"Guilherme\", \"telefone\": \"3333-2221\"}}\n",
        "\n",
        "contatos.update({\"guilherme@gmail.com\": {\"nome\": \"Gui\"}})\n",
        "print(contatos)  # {'guilherme@gmail.com': {'nome': 'Gui'}}\n",
        "\n",
        "contatos.update({\"giovanna@gmail.com\": {\"nome\": \"Giovanna\", \"telefone\": \"3322-8181\"}})\n",
        "# {'guilherme@gmail.com': {'nome': 'Gui'}, 'giovanna@gmail.com': {'nome': 'Giovanna', 'telefone': '3322-8181'}}\n",
        "print(contatos)"
      ],
      "metadata": {
        "id": "8wdT9zUldfbY"
      },
      "execution_count": null,
      "outputs": []
    },
    {
      "cell_type": "code",
      "source": [
        "contatos = {\n",
        "    \"guilherme@gmail.com\": {\"nome\": \"Guilherme\", \"telefone\": \"3333-2221\"},\n",
        "    \"giovanna@gmail.com\": {\"nome\": \"Giovanna\", \"telefone\": \"3443-2121\"},\n",
        "    \"chappie@gmail.com\": {\"nome\": \"Chappie\", \"telefone\": \"3344-9871\"},\n",
        "    \"melaine@gmail.com\": {\"nome\": \"Melaine\", \"telefone\": \"3333-7766\"},\n",
        "}\n",
        "\n",
        "resultado = (\n",
        "    contatos.values()\n",
        ")  # dict_values([{'nome': 'Guilherme', 'telefone': '3333-2221'}, {'nome': 'Giovanna', 'telefone': '3443-2121'}, {'nome': 'Chappie', 'telefone': '3344-9871'}, {'nome': 'Melaine', 'telefone': '3333-7766'}])  # noqa\n",
        "print(resultado)"
      ],
      "metadata": {
        "id": "ou7U1NTrdl0c"
      },
      "execution_count": null,
      "outputs": []
    },
    {
      "cell_type": "code",
      "source": [
        "contatos = {\n",
        "    \"guilherme@gmail.com\": {\"nome\": \"Guilherme\", \"telefone\": \"3333-2221\"},\n",
        "    \"giovanna@gmail.com\": {\"nome\": \"Giovanna\", \"telefone\": \"3443-2121\"},\n",
        "    \"chappie@gmail.com\": {\"nome\": \"Chappie\", \"telefone\": \"3344-9871\"},\n",
        "    \"melaine@gmail.com\": {\"nome\": \"Melaine\", \"telefone\": \"3333-7766\"},\n",
        "}\n",
        "\n",
        "resultado = \"guilherme@gmail.com\" in contatos  # True\n",
        "print(resultado)\n",
        "\n",
        "resultado = \"megui@gmail.com\" in contatos  # False\n",
        "print(resultado)\n",
        "\n",
        "resultado = \"idade\" in contatos[\"guilherme@gmail.com\"]  # False\n",
        "print(resultado)\n",
        "\n",
        "resultado = \"telefone\" in contatos[\"giovanna@gmail.com\"]  # True\n",
        "print(resultado)"
      ],
      "metadata": {
        "id": "01PxyX8Odouv"
      },
      "execution_count": null,
      "outputs": []
    },
    {
      "cell_type": "code",
      "source": [
        "contatos = {\n",
        "    \"guilherme@gmail.com\": {\"nome\": \"Guilherme\", \"telefone\": \"3333-2221\"},\n",
        "    \"giovanna@gmail.com\": {\"nome\": \"Giovanna\", \"telefone\": \"3443-2121\"},\n",
        "    \"chappie@gmail.com\": {\"nome\": \"Chappie\", \"telefone\": \"3344-9871\"},\n",
        "    \"melaine@gmail.com\": {\"nome\": \"Melaine\", \"telefone\": \"3333-7766\"},\n",
        "}\n",
        "\n",
        "del contatos[\"guilherme@gmail.com\"][\"telefone\"]\n",
        "del contatos[\"chappie@gmail.com\"]\n",
        "\n",
        "# {'guilherme@gmail.com': {'nome': 'Guilherme'}, 'giovanna@gmail.com': {'nome': 'Giovanna', 'telefone': '3443-2121'}, 'melaine@gmail.com': {'nome': 'Melaine', 'telefone': '3333-7766'}}  # noqa\n",
        "print(contatos)"
      ],
      "metadata": {
        "id": "lKtDbif8dr3P"
      },
      "execution_count": null,
      "outputs": []
    },
    {
      "cell_type": "code",
      "source": [
        "carro = {\"marca\": \"Fiat\", \"modelo\": \"palio\", \"placa\": \"ABD-9826\"}"
      ],
      "metadata": {
        "id": "VFEPlk_4oTee"
      },
      "execution_count": 4,
      "outputs": []
    },
    {
      "cell_type": "code",
      "source": [
        "carro.get(\"motor\")"
      ],
      "metadata": {
        "id": "4z3-wWFCoYAA"
      },
      "execution_count": 5,
      "outputs": []
    },
    {
      "cell_type": "code",
      "source": [
        "carro"
      ],
      "metadata": {
        "colab": {
          "base_uri": "https://localhost:8080/"
        },
        "id": "l4hgrMRqoZfz",
        "outputId": "e5210575-9621-4ca6-8fb7-bb4e8316e98c"
      },
      "execution_count": 6,
      "outputs": [
        {
          "output_type": "execute_result",
          "data": {
            "text/plain": [
              "{'marca': 'Fiat', 'modelo': 'palio', 'placa': 'ABD-9826'}"
            ]
          },
          "metadata": {},
          "execution_count": 6
        }
      ]
    },
    {
      "cell_type": "markdown",
      "source": [
        "### **Funções**"
      ],
      "metadata": {
        "id": "3DQ7wt-HEh4j"
      }
    },
    {
      "cell_type": "markdown",
      "source": [
        "## **Desafios Python**"
      ],
      "metadata": {
        "id": "I0Rn9HEC9WZB"
      }
    },
    {
      "cell_type": "markdown",
      "source": [
        "### **Equilibrando Saldo**"
      ],
      "metadata": {
        "id": "t2j9wDanXNSF"
      }
    },
    {
      "cell_type": "markdown",
      "source": [
        "Para esse desafio, considere que você foi contratado por uma empresa bancária para auxiliar nas implementações e melhorias do sistema empresarial. Em uma análise inicial, foi identificado pela equipe financeira a necessidade de desenvolver uma solução que permita ao cliente equilibrar seu saldo bancário. Dessa forma, o programa deve solicitar uma entrada que representa o saldo atual do funcionário, e após, seja informado o valor de duas transações, sendo elas: um depósito e um saque. O programa deve atualizar o saldo com base nas transações e exibir o saldo final.\n",
        "\n",
        "**Informação:** As transações de depósito e retirada devem ser tratadas como valores positivos e negativos, respectivamente, para garantir que o cálculo do saldo final seja realizado corretamente."
      ],
      "metadata": {
        "id": "XRBBqftT9c60"
      }
    },
    {
      "cell_type": "code",
      "source": [
        "saldo_atual = float(input(\"Saldo inicial: \"))\n",
        "valor_deposito = float(input(\"Valor depositado: \"))\n",
        "valor_retirada = float(input(\"Valor sacado: \"))\n",
        "\n",
        "saldo_final = saldo_atual + valor_deposito - valor_retirada\n",
        "\n",
        "print(\"O saldo final é: {:.1f}\".format(saldo_final))"
      ],
      "metadata": {
        "colab": {
          "base_uri": "https://localhost:8080/"
        },
        "id": "zpjUHg279WHK",
        "outputId": "8c3732d2-d021-422d-eed5-f573c17a1b4a"
      },
      "execution_count": 56,
      "outputs": [
        {
          "output_type": "stream",
          "name": "stdout",
          "text": [
            "Saldo inicial: 100\n",
            "Valor depositado: 10\n",
            "Valor sacado: 50\n",
            "O saldo final é: 60.0\n"
          ]
        }
      ]
    },
    {
      "cell_type": "markdown",
      "source": [
        "### **Organizando seus ativos**"
      ],
      "metadata": {
        "id": "KuKksG1FhWhi"
      }
    },
    {
      "cell_type": "markdown",
      "source": [
        "Após uma análise cuidadosa realizada pela equipe de desenvolvimento de uma empresa bancaria, foi identificado a necessidade de uma nova funcionalidade para otimizar os processos e melhorias da experiência dos usuários. Agora, sua tarefa é implementar uma solução que organize em ordem alfabética uma lista de ativos que será informada pelos usuários. Os ativos são representados por strings que representam seus tipos, como por exemplo: Reservas de liquidez, Ativos intangiveis e dentre outros."
      ],
      "metadata": {
        "id": "0ykWN2BNhbxw"
      }
    },
    {
      "cell_type": "code",
      "source": [
        "ativos = []\n",
        "\n",
        "# Entrada da quantidade de ativos\n",
        "quantidadeAtivos = int(input())\n",
        "\n",
        "# Entrada dos códigos dos ativos\n",
        "for _ in range(quantidadeAtivos):\n",
        "    codigoAtivo = input()\n",
        "    ativos.append(codigoAtivo)\n",
        "\n",
        "# Ordenar os ativos em ordem alfabética\n",
        "ativos.sort()\n",
        "\n",
        "# Imprimir a lista de ativos ordenada\n",
        "for ativo in ativos:\n",
        "    print(ativo)"
      ],
      "metadata": {
        "colab": {
          "base_uri": "https://localhost:8080/"
        },
        "id": "QPnIqGN0nXbX",
        "outputId": "6ddc44ac-df24-4c8c-ec28-7fd3d6d784a5"
      },
      "execution_count": 45,
      "outputs": [
        {
          "output_type": "stream",
          "name": "stdout",
          "text": [
            "1\n",
            "2\n",
            "2\n"
          ]
        }
      ]
    },
    {
      "cell_type": "markdown",
      "source": [
        "### **Condicionalmente Rico**"
      ],
      "metadata": {
        "id": "Jb1kLdNRtXVk"
      }
    },
    {
      "cell_type": "markdown",
      "source": [
        "Uma nova feature para um sistema bancário foi analisada pela equipe de desenvolvimento e será uma das tarefas a serem trabalhadas durante a sprint, como desenvolvedor da empresa você recebeu os requisitos para a nova implementação que consiste em uma solução algorítmica que permita aos clientes realizarem saques em caixas eletrônicos. No entanto, existem algumas regras a serem seguidas para garantir que um saque possa ser realizado com sucesso.\n",
        "\n",
        "**Regras do saque:**\n",
        "\n",
        "- Cada cliente digitará o valor do seu saldoTotal de sua conta bancária e o valorSaque.\n",
        "- Um saque só pode ser realizado se o saldoDisponível na conta for igual ou superior ao valor solicitado.\n",
        "- Se o saldo for suficiente, o valor solicitado deve ser subtraído do saldo disponível, indicando que o saque foi realizado.\n",
        "- Se o saldo for insuficiente, o saque não deve ser realizado e uma mensagem adequada deve ser exibida."
      ],
      "metadata": {
        "id": "zTk07EhYtaaZ"
      }
    },
    {
      "cell_type": "code",
      "source": [
        "saldo_total = int(input())\n",
        "valor_saque = int(input())\n",
        "\n",
        "if saldo_total >= valor_saque:\n",
        "  saldo = saldo_total - valor_saque\n",
        "  print(f\"Saque realizado com sucesso. Novo saldo: {saldo}\")\n",
        "else:\n",
        "  print(\"Saldo insuficiente. Saque nao realizado!\")"
      ],
      "metadata": {
        "colab": {
          "base_uri": "https://localhost:8080/"
        },
        "id": "saR0713DtfBS",
        "outputId": "e9b2db06-997d-4331-e510-673f178cdb70"
      },
      "execution_count": 55,
      "outputs": [
        {
          "output_type": "stream",
          "name": "stdout",
          "text": [
            "1000\n",
            "200\n",
            "Saque realizado com sucesso. Novo saldo: 800\n"
          ]
        }
      ]
    },
    {
      "cell_type": "markdown",
      "source": [
        "### **O Grande Depósito**"
      ],
      "metadata": {
        "id": "jyXRcQH5pwvw"
      }
    },
    {
      "cell_type": "markdown",
      "source": [
        "Você foi contratado por um banco para desenvolver um programa que auxilie seus clientes a realizar depósitos em suas contas. O programa deve solicitar ao cliente o valor do depósito e verificar se o valor é válido. Se o valor for maior do que zero, o programa deve adicionar o valor ao saldo da conta. Caso contrário, o programa deve exibir uma mensagem de erro. O programa deve soliticar apenas uma vez o valor de depósito."
      ],
      "metadata": {
        "id": "yDi9GFI8p1xV"
      }
    },
    {
      "cell_type": "code",
      "source": [
        "valor = float(input())\n",
        "\n",
        "if valor > 0:\n",
        "  print(f\"Deposito realizado com sucesso!\\nSaldo atual: R$ {valor:.2f}\")\n",
        "elif valor == 0:\n",
        "  print(\"Encerrando o programa...\")\n",
        "else:\n",
        "  print(f\"Valor invalido! Digite um valor maior que zero.\")"
      ],
      "metadata": {
        "colab": {
          "base_uri": "https://localhost:8080/"
        },
        "id": "hN-Tvd55p33l",
        "outputId": "3e145208-5311-4af3-92ae-4ed24b321211"
      },
      "execution_count": 17,
      "outputs": [
        {
          "output_type": "stream",
          "name": "stdout",
          "text": [
            "100\n",
            "Deposito realizado com sucesso!\n",
            "Saldo atual: R$ 100.00\n"
          ]
        }
      ]
    },
    {
      "cell_type": "markdown",
      "source": [
        "### **Juros Composto**"
      ],
      "metadata": {
        "id": "Qj-OcxOFwtiT"
      }
    },
    {
      "cell_type": "markdown",
      "source": [
        "Imagine que você está desenvolvendo um aplicativo para um banco que deseja calcular os juros compostos de um investimento. Seu objetivo é criar uma função que receba três parâmetros: o valor inicial do investimento, a taxa de juros anual e o período de tempo em anos. A função deve calcular e retornar o valor final do investimento após o período determinado, levando em consideração os juros compostos."
      ],
      "metadata": {
        "id": "bULW3_Zxw_FU"
      }
    },
    {
      "cell_type": "code",
      "source": [
        "valor_inicial = float(input())\n",
        "taxa_juros = float(input())\n",
        "periodo = int(input())\n",
        "\n",
        "valor_final = valor_inicial * (1 + taxa_juros) ** periodo\n",
        "\n",
        "print(f\"Valor final do investimento: R$ {valor_final:.2f}\")"
      ],
      "metadata": {
        "colab": {
          "base_uri": "https://localhost:8080/"
        },
        "id": "RfUmjKMcw_l2",
        "outputId": "9ff77665-8b62-4689-f371-29f346ee0228"
      },
      "execution_count": 4,
      "outputs": [
        {
          "output_type": "stream",
          "name": "stdout",
          "text": [
            "5000\n",
            "0.08\n",
            "5\n",
            "Valor final do investimento: R$ 7346.64\n"
          ]
        }
      ]
    }
  ]
}