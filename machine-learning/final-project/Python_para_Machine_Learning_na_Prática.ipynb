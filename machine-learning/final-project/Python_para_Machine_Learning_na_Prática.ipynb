{
  "nbformat": 4,
  "nbformat_minor": 0,
  "metadata": {
    "colab": {
      "provenance": [],
      "authorship_tag": "ABX9TyNL8SRncOwlls96WIxiA2up",
      "include_colab_link": true
    },
    "kernelspec": {
      "name": "python3",
      "display_name": "Python 3"
    },
    "language_info": {
      "name": "python"
    }
  },
  "cells": [
    {
      "cell_type": "markdown",
      "metadata": {
        "id": "view-in-github",
        "colab_type": "text"
      },
      "source": [
        "<a href=\"https://colab.research.google.com/github/fernandapilat/bootcamp-data-science/blob/main/Python_para_Machine_Learning_na_Pr%C3%A1tica.ipynb\" target=\"_parent\"><img src=\"https://colab.research.google.com/assets/colab-badge.svg\" alt=\"Open In Colab\"/></a>"
      ]
    },
    {
      "cell_type": "markdown",
      "source": [
        "# **Python para Machine Learning na Prática - DIO & Santander**"
      ],
      "metadata": {
        "id": "bh-pQVjxACP9"
      }
    },
    {
      "cell_type": "markdown",
      "source": [
        "## **Estruturas Condicionais**"
      ],
      "metadata": {
        "id": "nF00PPDw_8J-"
      }
    },
    {
      "cell_type": "markdown",
      "source": [
        "### **Estrutura Condicional Simples**\n",
        "\n",
        "A estrutura condicional simples é usada para tomar decisões com base em uma **única condição**. Ela é representada pela instrução `if`. Se a condição for verdadeira, o bloco de código dentro do if é executado; caso contrário, o programa segue em frente. Aqui está um exemplo:"
      ],
      "metadata": {
        "id": "rUWfGH2KAP8-"
      }
    },
    {
      "cell_type": "code",
      "execution_count": 9,
      "metadata": {
        "colab": {
          "base_uri": "https://localhost:8080/"
        },
        "id": "Bs_LyodS6kMZ",
        "outputId": "6ba5b076-ee9e-4daf-d8a7-e165c0c349de"
      },
      "outputs": [
        {
          "output_type": "stream",
          "name": "stdout",
          "text": [
            "Você é maior de idade.\n"
          ]
        }
      ],
      "source": [
        "idade = 18\n",
        "\n",
        "if idade >= 18:\n",
        "    print(\"Você é maior de idade.\")"
      ]
    },
    {
      "cell_type": "markdown",
      "source": [
        "### **Estrutura Condicional Complexa**\n",
        "\n",
        "A estrutura condicional complexa envolve mais de uma condição. Ela é estendida com instruções `else` e, opcionalmente, `elif` (uma abreviação de \"else if\"). Isso permite a avaliação de várias condições sequencialmente e a execução de diferentes blocos de código com base nas condições que são verdadeiras. Aqui está um exemplo:"
      ],
      "metadata": {
        "id": "sX1tOJbQEuCC"
      }
    },
    {
      "cell_type": "code",
      "source": [
        "idade = 18\n",
        "\n",
        "if idade < 18:\n",
        "    print(\"Você é menor de idade.\")\n",
        "elif idade == 18:\n",
        "    print(\"Você tem 18 anos.\")\n",
        "else:\n",
        "    print(\"Você é maior de 18 anos.\")"
      ],
      "metadata": {
        "colab": {
          "base_uri": "https://localhost:8080/"
        },
        "id": "pERXGFUdEyXS",
        "outputId": "c6d4da97-5b08-4348-945d-40a0ed3c6f3b"
      },
      "execution_count": 5,
      "outputs": [
        {
          "output_type": "stream",
          "name": "stdout",
          "text": [
            "Você tem 18 anos.\n"
          ]
        }
      ]
    },
    {
      "cell_type": "markdown",
      "source": [
        "### **Estrutura Condicional Aninhada**\n",
        "\n",
        "A estrutura condicional aninhada é uma construção que ocorre quando uma estrutura condicional está contida dentro de outra. Isso é útil quando você precisa avaliar múltiplas condições em diferentes níveis. As instruções `if`, `elif`, e `else` podem ser aninhadas para criar uma lógica mais complexa. Veja um exemplo:"
      ],
      "metadata": {
        "id": "7xpmn3F3FEUu"
      }
    },
    {
      "cell_type": "code",
      "source": [
        "idade = 18\n",
        "possui_carta_conducao = True\n",
        "\n",
        "if idade >= 18:\n",
        "    if possui_carta_conducao:\n",
        "        print(\"Você pode dirigir legalmente.\")\n",
        "    else:\n",
        "        print(\"Você é maior de idade, mas não pode dirigir sem uma carteira de motorista.\")\n",
        "else:\n",
        "    print(\"Você é menor de idade e não pode dirigir.\")"
      ],
      "metadata": {
        "colab": {
          "base_uri": "https://localhost:8080/"
        },
        "id": "4av1rDxTFMP5",
        "outputId": "ebd03203-ccdd-4e16-d615-6783522f1422"
      },
      "execution_count": 14,
      "outputs": [
        {
          "output_type": "stream",
          "name": "stdout",
          "text": [
            "Você pode dirigir legalmente.\n"
          ]
        }
      ]
    },
    {
      "cell_type": "markdown",
      "source": [
        "## **For**"
      ],
      "metadata": {
        "id": "-K-sNN1eGChX"
      }
    },
    {
      "cell_type": "markdown",
      "source": [
        "O comando for em Python é usado para criar um loop que permite que você execute um bloco de código várias vezes. Ele é uma das estruturas de controle de fluxo mais fundamentais na programação e é frequentemente usado para iterar sobre sequências de elementos, como listas, strings, dicionários, ou até mesmo números em um intervalo.\n",
        "\n",
        "\n",
        "```\n",
        "for elemento in sequencia:\n",
        "    # Código a ser executado para cada elemento na sequência\n",
        "```\n",
        "\n",
        "**elemento:** Esta é uma variável que representa o elemento atual da sequência a ser processado a cada iteração do loop.\n",
        "\n",
        "**sequencia:** A sequência é uma coleção de elementos sobre os quais você deseja iterar. Pode ser uma lista, uma string, uma tupla, um dicionário ou até mesmo um intervalo de números.\n",
        "\n",
        "Aqui estão alguns exemplos de como você pode usar o comando for em Python:"
      ],
      "metadata": {
        "id": "fspYLz3eGF7e"
      }
    },
    {
      "cell_type": "markdown",
      "source": [
        "### **Exemplo 1: Iteração sobre uma lista**"
      ],
      "metadata": {
        "id": "ADFVOUhFHBkt"
      }
    },
    {
      "cell_type": "code",
      "source": [
        "frutas = [\"maçã\", \"banana\", \"laranja\"]\n",
        "for fruta in frutas:\n",
        "    print(fruta)"
      ],
      "metadata": {
        "colab": {
          "base_uri": "https://localhost:8080/"
        },
        "id": "OetHU4XHG_l6",
        "outputId": "7ef1dd80-813d-4a0a-d306-759e6cad76fa"
      },
      "execution_count": 16,
      "outputs": [
        {
          "output_type": "stream",
          "name": "stdout",
          "text": [
            "maçã\n",
            "banana\n",
            "laranja\n"
          ]
        }
      ]
    },
    {
      "cell_type": "markdown",
      "source": [
        "### **Exemplo 2: Iteração sobre uma string**"
      ],
      "metadata": {
        "id": "WRHY__l1HK0M"
      }
    },
    {
      "cell_type": "code",
      "source": [
        "palavra = \"Python\"\n",
        "for letra in palavra:\n",
        "    print(letra)"
      ],
      "metadata": {
        "colab": {
          "base_uri": "https://localhost:8080/"
        },
        "id": "dMErbM42HNtB",
        "outputId": "60af505e-e366-45ed-b02c-bd117f7b7f6b"
      },
      "execution_count": 17,
      "outputs": [
        {
          "output_type": "stream",
          "name": "stdout",
          "text": [
            "P\n",
            "y\n",
            "t\n",
            "h\n",
            "o\n",
            "n\n"
          ]
        }
      ]
    },
    {
      "cell_type": "markdown",
      "source": [
        "### **Exemplo 3: Usando range para criar uma sequência numérica**"
      ],
      "metadata": {
        "id": "tmoTYN7_HX_0"
      }
    },
    {
      "cell_type": "code",
      "source": [
        "for numero in range(1, 6):\n",
        "    print(numero)"
      ],
      "metadata": {
        "colab": {
          "base_uri": "https://localhost:8080/"
        },
        "id": "Fol1h3lxHavk",
        "outputId": "d333431b-e794-455d-e709-7001fb1ba342"
      },
      "execution_count": 18,
      "outputs": [
        {
          "output_type": "stream",
          "name": "stdout",
          "text": [
            "1\n",
            "2\n",
            "3\n",
            "4\n",
            "5\n"
          ]
        }
      ]
    },
    {
      "cell_type": "markdown",
      "source": [
        "### **Exemplo 4: Iteração sobre dicionários**"
      ],
      "metadata": {
        "id": "aIPKDiOYHdSs"
      }
    },
    {
      "cell_type": "code",
      "source": [
        "pessoa = {\"nome\": \"João\", \"idade\": 30, \"cidade\": \"São Paulo\"}\n",
        "for chave, valor in pessoa.items():\n",
        "    print(f\"{chave}: {valor}\")"
      ],
      "metadata": {
        "colab": {
          "base_uri": "https://localhost:8080/"
        },
        "id": "Z0BFpd6yHfPd",
        "outputId": "913f6cff-7c1d-4315-a493-2bcbf2c0c308"
      },
      "execution_count": 19,
      "outputs": [
        {
          "output_type": "stream",
          "name": "stdout",
          "text": [
            "nome: João\n",
            "idade: 30\n",
            "cidade: São Paulo\n"
          ]
        }
      ]
    },
    {
      "cell_type": "markdown",
      "source": [
        "## **While**"
      ],
      "metadata": {
        "id": "1uUjKDgTJjsp"
      }
    },
    {
      "cell_type": "markdown",
      "source": [
        "O comando `while` em Python é usado para criar loops que executam um bloco de código repetidamente enquanto uma condição específica for avaliada como verdadeira. Em outras palavras, ele permite que você execute um conjunto de instruções enquanto a condição for verdadeira. Aqui está a estrutura geral do comando while:\n",
        "\n",
        "\n",
        "```\n",
        "while condição:\n",
        "    # Código a ser executado enquanto a condição for verdadeira\n",
        "```\n",
        "\n",
        "Aqui está uma explicação mais detalhada sobre como o comando while funciona:\n",
        "\n",
        "**condição:** Esta é uma expressão que deve ser avaliada como verdadeira ou falsa. Enquanto a condição for verdadeira, o bloco de código dentro do while é executado repetidamente. Se a condição se tornar falsa, a execução do loop é interrompida.\n",
        "\n",
        "**Bloco de código:** É o conjunto de instruções que será executado enquanto a condição for verdadeira. É importante que o bloco de código dentro do while modifique a condição de alguma forma, de modo que eventualmente a condição se torne falsa e o loop seja interrompido. Caso contrário, você pode criar um loop infinito.\n"
      ],
      "metadata": {
        "id": "M8W31cMIJnRy"
      }
    },
    {
      "cell_type": "markdown",
      "source": [
        "### **Exemplo 1: Loop com Contador**"
      ],
      "metadata": {
        "id": "DqTb1u6YKXtN"
      }
    },
    {
      "cell_type": "code",
      "source": [
        "contador = 0\n",
        "while contador < 5:\n",
        "    print(contador)\n",
        "    contador += 1\n"
      ],
      "metadata": {
        "colab": {
          "base_uri": "https://localhost:8080/"
        },
        "id": "Pf4awcklJoA6",
        "outputId": "a28b4296-ca1e-48b8-bf6b-886a6f6baabf"
      },
      "execution_count": 20,
      "outputs": [
        {
          "output_type": "stream",
          "name": "stdout",
          "text": [
            "0\n",
            "1\n",
            "2\n",
            "3\n",
            "4\n"
          ]
        }
      ]
    },
    {
      "cell_type": "markdown",
      "source": [
        "### **Exemplo 2: Loop até que o Usuário Decida Sair**"
      ],
      "metadata": {
        "id": "jHxs78zwKnDi"
      }
    },
    {
      "cell_type": "code",
      "source": [
        "continuar = True\n",
        "while continuar:\n",
        "    resposta = input(\"Deseja continuar (sim/não)? \")\n",
        "    if resposta.lower() == \"não\":\n",
        "        continuar = False"
      ],
      "metadata": {
        "colab": {
          "base_uri": "https://localhost:8080/"
        },
        "id": "O7Lz3mogKmPD",
        "outputId": "e80ea58b-8649-4a4f-e86e-91f9bde56298"
      },
      "execution_count": 21,
      "outputs": [
        {
          "name": "stdout",
          "output_type": "stream",
          "text": [
            "Deseja continuar (sim/não)? sim\n",
            "Deseja continuar (sim/não)? sim\n",
            "Deseja continuar (sim/não)? não\n"
          ]
        }
      ]
    },
    {
      "cell_type": "markdown",
      "source": [
        "### **Exemplo 3: Validação de Entrada**"
      ],
      "metadata": {
        "id": "yq0U5AQbKwwT"
      }
    },
    {
      "cell_type": "code",
      "source": [
        "entrada = \"\"\n",
        "while not entrada.isnumeric():\n",
        "    entrada = input(\"Digite um número: \")"
      ],
      "metadata": {
        "colab": {
          "base_uri": "https://localhost:8080/"
        },
        "id": "_ErRoioaKzI8",
        "outputId": "8990b344-3321-438f-87e1-2bbb9987ebba"
      },
      "execution_count": 24,
      "outputs": [
        {
          "name": "stdout",
          "output_type": "stream",
          "text": [
            "Digite um número: k\n",
            "Digite um número: l\n",
            "Digite um número: n\n",
            "Digite um número: be\n",
            "Digite um número: 2\n"
          ]
        }
      ]
    },
    {
      "cell_type": "markdown",
      "source": [
        "## **Biblioteca Matplotlib**"
      ],
      "metadata": {
        "id": "FTpsLVwGLGXn"
      }
    },
    {
      "cell_type": "markdown",
      "source": [
        "A matplotlib é uma das **bibliotecas mais populares** em Python para criação de gráficos e visualização de dados. Ela fornece uma variedade de funções para criar gráficos de alta qualidade em diferentes formatos, como gráficos de barras, gráficos de dispersão, gráficos de linha, histogramas e muito mais. Essa biblioteca é amplamente utilizada em ciência de dados, análise de dados e geração de gráficos para publicações e apresentações."
      ],
      "metadata": {
        "id": "cYVEA-m4LaZW"
      }
    },
    {
      "cell_type": "code",
      "source": [
        "import matplotlib.pyplot as plt\n",
        "import numpy as np\n",
        "\n",
        "# Crie dados de exemplo\n",
        "np.random.seed(0)\n",
        "x = np.random.rand(50)\n",
        "y = np.random.rand(50)\n",
        "cores = np.random.rand(50)\n",
        "tamanhos = 1000 * np.random.rand(50)\n",
        "\n",
        "# Crie o gráfico de dispersão\n",
        "plt.scatter(x, y, c=cores, s=tamanhos, alpha=0.5, cmap='viridis')\n",
        "\n",
        "# Adicione uma barra de cores\n",
        "barra_cores = plt.colorbar()\n",
        "\n",
        "# Defina rótulos para os eixos e o título\n",
        "plt.xlabel(\"Eixo X\")\n",
        "plt.ylabel(\"Eixo Y\")\n",
        "plt.title(\"Gráfico de Dispersão Personalizado\")\n",
        "\n",
        "# Exiba o gráfico\n",
        "plt.show()"
      ],
      "metadata": {
        "colab": {
          "base_uri": "https://localhost:8080/",
          "height": 472
        },
        "id": "uoHhKvUyLN9_",
        "outputId": "d9e61e2a-80bf-4d5d-f069-fa863938274d"
      },
      "execution_count": 26,
      "outputs": [
        {
          "output_type": "display_data",
          "data": {
            "text/plain": [
              "<Figure size 640x480 with 2 Axes>"
            ],
            "image/png": "[encoded data removed]"
          },
          "metadata": {}
        }
      ]
    },
    {
      "cell_type": "markdown",
      "source": [
        "Neste exemplo, estamos criando um gráfico de dispersão que inclui características mais complexas:\n",
        "\n",
        "1. Geramos dados de exemplo usando a biblioteca `numpy`. Criamos 50 pontos aleatórios para os eixos x e y, bem como valores de cores (`cores`) e tamanhos (`tamanhos`) aleatórios para cada ponto.\n",
        "\n",
        "2. Usamos plt.scatter para criar o gráfico de dispersão. Os argumentos c (`cores`), s (`tamanhos`), alpha (`transparência`) e cmap (`mapa de cores`) personalizam a aparência dos pontos no gráfico.\n",
        "\n",
        "3. Adicionamos uma barra de cores usando plt.colorbar(), que corresponde às cores dos pontos no gráfico.\n",
        "\n",
        "4. Definimos rótulos para os eixos e um título para o gráfico usando plt.xlabel, plt.ylabel e plt.title.\n",
        "\n",
        "5. Finalmente, exibimos o gráfico com plt.show()."
      ],
      "metadata": {
        "id": "cA_jndYpLsab"
      }
    },
    {
      "cell_type": "markdown",
      "source": [
        "## **Implementando uma Deep Learning do zero em Python**"
      ],
      "metadata": {
        "id": "sH_AarcmNMP_"
      }
    },
    {
      "cell_type": "markdown",
      "source": [
        "**Nome do projeto:** Rede neural do zero."
      ],
      "metadata": {
        "id": "K0zUDM2Jtpxg"
      }
    },
    {
      "cell_type": "markdown",
      "source": [
        "Utilizando o dataset [MNIST](http://yann.lecun.com/exdb/mnist/)."
      ],
      "metadata": {
        "id": "nKivNxfrgk5c"
      }
    },
    {
      "cell_type": "code",
      "source": [
        "import numpy as np\n",
        "import torch\n",
        "import torch.nn.functional as F\n",
        "import torchvision\n",
        "import matplotlib.pyplot as plt\n",
        "from time import time\n",
        "from torchvision import datasets, transforms\n",
        "from torch import nn, optim"
      ],
      "metadata": {
        "id": "SvsR_jKftvhS"
      },
      "execution_count": 11,
      "outputs": []
    },
    {
      "cell_type": "code",
      "source": [
        "transform = transforms.ToTensor()\n",
        "\n",
        "trainset = datasets.MNIST('.MNIST_data/', download=True, train=True, transform=transform)\n",
        "trainloader = torch.utils.data.DataLoader(trainset, batch_size=64, shuffle=True)\n",
        "\n",
        "valset = datasets.MNIST('.MNIST_data/', download=True, train=False, transform=transform)\n",
        "valloader = torch.utils.data.DataLoader(valset, batch_size=64, shuffle=True)"
      ],
      "metadata": {
        "id": "qxX07872uSeC"
      },
      "execution_count": 12,
      "outputs": []
    },
    {
      "cell_type": "code",
      "source": [
        "dataiter = iter(trainloader)\n",
        "imagens, etiquetas = next(dataiter)\n",
        "plt.imshow(imagens[0].numpy().squeeze(), cmap='gray_r')"
      ],
      "metadata": {
        "colab": {
          "base_uri": "https://localhost:8080/",
          "height": 447
        },
        "id": "fupr5iXFyXaE",
        "outputId": "7341b1c2-d2df-43cd-c018-928ae48d6e0b"
      },
      "execution_count": 20,
      "outputs": [
        {
          "output_type": "execute_result",
          "data": {
            "text/plain": [
              "<matplotlib.image.AxesImage at 0x7ef29602b280>"
            ]
          },
          "metadata": {},
          "execution_count": 20
        },
        {
          "output_type": "display_data",
          "data": {
            "text/plain": [
              "<Figure size 640x480 with 1 Axes>"
            ],
            "image/png": "[encoded data removed]"
          },
          "metadata": {}
        }
      ]
    },
    {
      "cell_type": "code",
      "source": [
        "# Verificar as dimensões do tensor de cada imagem e etiqueta\n",
        "\n",
        "print(imagens[0].shape)\n",
        "print(etiquetas[0].shape)"
      ],
      "metadata": {
        "colab": {
          "base_uri": "https://localhost:8080/"
        },
        "id": "7cqg7XtwfWVi",
        "outputId": "611d02e7-3866-44e9-aa7c-2dc1b1665895"
      },
      "execution_count": 14,
      "outputs": [
        {
          "output_type": "stream",
          "name": "stdout",
          "text": [
            "torch.Size([1, 28, 28])\n",
            "torch.Size([])\n"
          ]
        }
      ]
    },
    {
      "cell_type": "markdown",
      "source": [
        "Utilizando o dataset [InceptionV3](https://keras.io/api/applications/inceptionv3/).\n",
        "\n",
        "\n"
      ],
      "metadata": {
        "id": "ISSz4eXGgXGy"
      }
    },
    {
      "cell_type": "code",
      "source": [
        "class Modelo(nn.Module):\n",
        "  def __init__(self):\n",
        "    super(Modelo, self).__init__()\n",
        "    self.linear1 = nn.Linear(28*28, 128) # Camada de entrada - 784 neurônios que se ligam a 128\n",
        "    self.linear2 = nn.Linear(128, 64) # Camada interna 1, 128 neurônios que se ligam a 64\n",
        "    self.linear3 = nn.Linear(64, 128) # camada interna 2, 64 neurônios que se ligam a 10\n",
        "\n",
        "  def forward(self,X):\n",
        "    X = F.relu(self.linear1(X)) # Função de ativação - Camada interna 1\n",
        "    X = F.relu(self.linear2(X)) # Função de ativação - Camada interna 1 para camada interna 2\n",
        "    X = self.linear3(X) # Função de ativação - Camada interna 2 para camada de saída, nesse caso f(x) = x\n",
        "    return F.log_coftmax(X, dim=1) # Dados utilizados para calcular a perda"
      ],
      "metadata": {
        "id": "YkgBiq3ohCzY"
      },
      "execution_count": 15,
      "outputs": []
    },
    {
      "cell_type": "code",
      "source": [
        "def treino(modelo, trainloader, device):\n",
        "\n",
        "  otimizador = optim.SGD(modelo.parameters(), lr=0.01, momentum=0.5)\n",
        "  inicio = time()\n",
        "\n",
        "  criterio = nn.NLLLoss()\n",
        "  EPOCHS = 10\n",
        "  modelo.train()\n",
        "\n",
        "  for epoch in range(EPOCHS):\n",
        "    perda_acumulada = 0\n",
        "\n",
        "    for imagens, etiquetas in trainloader:\n",
        "\n",
        "      imagens = imagens.view(imagens.shape[0], -1)\n",
        "      otimizador.zero_grad()\n",
        "\n",
        "      output = modelo(imagens.to(device))\n",
        "      perda_instantanea = criterio(output, etiquetas.to(device))\n",
        "\n",
        "      perda_instantanea.backward()\n",
        "\n",
        "      otimizador.step()\n",
        "\n",
        "      perda_cumulativa += perda_instantanea.item()\n",
        "\n",
        "    else:\n",
        "      print(\"Epoch {} - Perda Resultante: {}\". format(epoch+1, perda_acumulada/len(trainloader)))\n",
        "  print(\"\\n Tempo de treino (em minutos) =\", (time()-inicio)/60)\n"
      ],
      "metadata": {
        "id": "vvSrUge5lNei"
      },
      "execution_count": 16,
      "outputs": []
    },
    {
      "cell_type": "code",
      "source": [
        "def validacao(modelo, valloader,device):\n",
        "  conta_corretas, conta_todas = 0, 0\n",
        "  for imagens, etiquetas in valloader:\n",
        "    for i in range(len(etiquetas)):\n",
        "      img = imagens[i].view(1, 784)\n",
        "\n",
        "      with torch.no_grand():\n",
        "        logps = modelo(img.to(devide))\n",
        "\n",
        "      ps = torch.exp(logps)\n",
        "      probab = list(ps.cpu().numpy()[0])\n",
        "      etiqueta_pred = probab.index(max(probab))\n",
        "      etiqueta_certa = etiquetas.numpy([i])\n",
        "      if(etiqueta_certa == etiqueta_pred):\n",
        "        conta_corretas += 1\n",
        "      conta_todas += 1\n",
        "\n",
        "  print(\"Total de imagens testadas =\", conta_todas)\n",
        "  print(\"\\nPrecisão do modelo = {}%\".format(conta_corretas*100/conta_todas))"
      ],
      "metadata": {
        "id": "TRfkZFK6nEcj"
      },
      "execution_count": 17,
      "outputs": []
    },
    {
      "cell_type": "code",
      "source": [
        "modelo = Modelo()\n",
        "device = torch.device(\"cuda\" if torch.cuda.is_available() else \"cpu\")\n",
        "modelo.to(device)"
      ],
      "metadata": {
        "colab": {
          "base_uri": "https://localhost:8080/"
        },
        "id": "27_q5N6yrs5m",
        "outputId": "bf39d184-ac82-439e-b0d7-49836b9a5e72"
      },
      "execution_count": 18,
      "outputs": [
        {
          "output_type": "execute_result",
          "data": {
            "text/plain": [
              "Modelo(\n",
              "  (linear1): Linear(in_features=784, out_features=128, bias=True)\n",
              "  (linear2): Linear(in_features=128, out_features=64, bias=True)\n",
              "  (linear3): Linear(in_features=64, out_features=128, bias=True)\n",
              ")"
            ]
          },
          "metadata": {},
          "execution_count": 18
        }
      ]
    }
  ]
}